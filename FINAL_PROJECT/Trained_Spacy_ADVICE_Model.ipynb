{
 "cells": [
  {
   "cell_type": "markdown",
   "metadata": {},
   "source": [
    "- ## Advice_Identifier_From_Doctor's_Voice_Prescription"
   ]
  },
  {
   "cell_type": "code",
   "execution_count": 1,
   "metadata": {},
   "outputs": [],
   "source": [
    "import spacy"
   ]
  },
  {
   "cell_type": "code",
   "execution_count": 2,
   "metadata": {},
   "outputs": [],
   "source": [
    "from tqdm import tqdm\n",
    "import spacy\n",
    "import random\n",
    "import json\n",
    "import re"
   ]
  },
  {
   "cell_type": "code",
   "execution_count": 3,
   "metadata": {},
   "outputs": [],
   "source": [
    "training_data = []\n",
    "lines=[]\n",
    "with open('MEDICAL_ADVICE.json', 'r',encoding=\"utf8\") as f:\n",
    "    lines = f.readlines()\n",
    "\n",
    "for line in lines:\n",
    "    data = json.loads(line)\n",
    "    text = data['content']\n",
    "    entities = []\n",
    "    if(data['annotation'] is not None):\n",
    "        for annotation in data['annotation']:\n",
    "              if(annotation is not None):\n",
    "                #only a single point in text annotation.\n",
    "                point = annotation['points'][0]\n",
    "                labels = annotation['label']\n",
    "                # handle both list of labels or a single label.\n",
    "                if not isinstance(labels, list):\n",
    "                    labels = [labels]\n",
    "\n",
    "                for label in labels:\n",
    "                    #dataturks indices are both inclusive [start, end] but spacy is not [start, end)\n",
    "                    entities.append((point['start'], point['end'] + 1 ,label))\n",
    "\n",
    "    if(entities != []):\n",
    "        training_data.append((text, {\"entities\" : entities}))"
   ]
  },
  {
   "cell_type": "code",
   "execution_count": 4,
   "metadata": {},
   "outputs": [
    {
     "data": {
      "text/plain": [
       "17"
      ]
     },
     "execution_count": 4,
     "metadata": {},
     "output_type": "execute_result"
    }
   ],
   "source": [
    "len(training_data)"
   ]
  },
  {
   "cell_type": "code",
   "execution_count": 5,
   "metadata": {},
   "outputs": [
    {
     "data": {
      "text/plain": [
       "[('Abhijit kaushal, your age is 29 yeras.According to your query you have the symptoms of Hoarseness,Persistent lumps,swollen glands.The problem i found that you are  suffering from Tetanus.The prescribed medicine you have to take are pyrantel,Tablet (chewable): 250 mg (as embonate orpamoate).Floss or use interdental brushes at least once a day to clean between your teeth.Change your toothbrush every 3–4 months.try Physical activity which promotes blood circulation.',\n",
       "  {'entities': [(412, 466, 'ADVICE'),\n",
       "    (372, 411, 'ADVICE'),\n",
       "    (300, 371, 'ADVICE')]}),\n",
       " ('You are  Yashwant of age 30 years.According to your query you are the having the problems of Hoarseness,Persistent lumps,swollen glands.The diagnosis report shows that you have the symptoms of Fifth disease.Medicines albendazole Tablet (chewable): 400 mg,ivermectin Tablet (scored): 3 mg.take small frequent meals.You should take complete bed rest.',\n",
       "  {'entities': [(314, 348, 'ADVICE'), (288, 313, 'ADVICE')]}),\n",
       " ('Hi Mr Avnish Chaurasia of age 23 years.You have the problems of Unexpected weight loss,night sweats.You are having the disease Congenital Heart Disease.According to report What i found is that you are suffering from Tuberculosis.The prescribed medicine you have to take are chloramphenicol Oily suspension for injection*: 0.5 g (as sodiumsuccinate)/ mL in 2‐ mL ampoule,erythromycin Powder for oral liquid: 125 mg/5 mL (as stearate or estolate or ethyl succinate).flex your ankles every half hour or so while sitting.You should try Avoiding foods that trigger indigestion.',\n",
       "  {'entities': [(517, 571, 'ADVICE'), (464, 516, 'ADVICE')]}),\n",
       " ('Hi, You are Prabhat Kumawat of age 20 years.So, you have the problems of Blood in the urine,Hoarseness.You have very severe problem of disease Infectious mononucleosis.You have to take the medicines gentamicin Injection: 10 mg 40 mg (as sulfate)/ mL in 2‐ mLvial,metronidazole Suppository: 500 mg 1 g.Use alcohol-free facial products.You should not use decongestants because they can dry out your throat.You should try Using warm saline water as a mouth wash,',\n",
       "  {'entities': [(404, 458, 'ADVICE'),\n",
       "    (334, 403, 'ADVICE'),\n",
       "    (301, 333, 'ADVICE')]}),\n",
       " ('hello,Mahesh Rathore, You are 25 years old.According to your problems i have read you are having the problems of loose stools,dry Cough.You are suffering from Measles.I am writing the medicines you have to take are clindamycin Capsule: 150 mg (as hydrochloride),vancomycin Powder for injection: 250 mg (as hydrochloride) in vial.try Chewing food slowly and thoroughly.try Reducing or eliminating the use of alcohol, caffeine, and carbonated beverages,',\n",
       "  {'entities': [(368, 451, 'ADVICE'), (328, 367, 'ADVICE')]}),\n",
       " ('You are Ballu of age 30 years.You are having the problems of frequent respiratory infections,rapid breathing.You should try Avoiding shouting or singing loudly or for prolonged periods of time.You should try Raising your head with pillows or raising the head-end of your bedThe problem i found that you are  suffering from Leukemia.Medicines clofazimine Capsule: 50 mg 100 mg, rifampicin Solid oral dosage form: 150 mg; 300 mg.',\n",
       "  {'entities': [(193, 274, 'ADVICE'), (109, 192, 'ADVICE')]}),\n",
       " ('Bittu kumar, Your age is 21 years.The problems you are having are cough,common cold,blood loss and shortness of breath at night.Report shows that you are suffering from Xerophthalmia.You have to take the medicines bupivacaine Injection: 0.25% 0.5% (hydrochloride) in vial,amitriptyline Tablet: 75 mg.You ought to drink more water.You ought not to drink so much beer.',\n",
       "  {'entities': [(330, 366, 'ADVICE'), (300, 329, 'ADVICE')]}),\n",
       " ('hello,Manish Kumar, You are 20 years old.You have specified the problems of breathing through the mouth ,fast breathing ,frequent respiratory infections.You are suffering from Lyme disease.Medicines cloxacillin Capsule: 500 mg; 1 g (as sodium salt),ceftazidime Powder for injection: 250 mg or 1 g (as pentahydrate)\\nin vial.You should do more Exercise.You shouldn’t drink so much beer.You ought to drink more water.You ought not to drink so much beer.Why don’t you do some more cycling?,',\n",
       "  {'entities': [(450, 486, 'ADVICE'),\n",
       "    (414, 449, 'ADVICE'),\n",
       "    (384, 413, 'ADVICE'),\n",
       "    (351, 383, 'ADVICE'),\n",
       "    (323, 350, 'ADVICE')]}),\n",
       " (\"Neha Kumari of age 17 years.According to your problems i have read you are having the problems of Persistent lumps,swollen glands.According to your report,There is a chance of disease Asthma.You have to take the medicines dexamethasone Oral liquid: 2 mg/5 mL,diazepam Injection: 5 mg/ mL.Drink Warm water,Don't eat grapes,I think you should get a different health,\",\n",
       "  {'entities': [(322, 363, 'ADVICE'),\n",
       "    (305, 321, 'ADVICE'),\n",
       "    (287, 304, 'ADVICE')]}),\n",
       " ('Rohit chodwani of age  55 years from Bihar.The problems you are having are Nausea,Blood in the urine,Hoarseness.Report shows that you are suffering from mumps.I am writing the medicines you have to take midazolam Injection: 1 mg/ mL; 5 mg/ mL,dexamethasone Injection: 4 mg/ mL in 1‐ mL ampoule as disodium phosphate salt).Try to use fruit in your dinner as well as in lunch,I would recommend doing exercise daily,Wash your clothes on daily basis.',\n",
       "  {'entities': [(413, 446, 'ADVICE'),\n",
       "    (374, 412, 'ADVICE'),\n",
       "    (322, 373, 'ADVICE')]}),\n",
       " ('Hi Miss Rekha jagwani, Your age is 45 years.You are having the problems of Hoarseness,Persistent lumps,swollen glands.The problem i found that you are  suffering from Meningitis.Medicines amoxicillin Solid oral dosage form: 250 mg 500 mg (astrihydrate),ampicillin Powder for injection: 500 mg; 1 g (as sodium salt).You had better to work on your health.I think you should try to drink more water and take healthy and balance  diet,I think you should take heiganic food with fruit on your diet',\n",
       "  {'entities': [(439, 492, 'ADVICE'),\n",
       "    (360, 430, 'ADVICE'),\n",
       "    (315, 352, 'ADVICE')]})]"
      ]
     },
     "execution_count": 5,
     "metadata": {},
     "output_type": "execute_result"
    }
   ],
   "source": [
    "training_data[4:15]"
   ]
  },
  {
   "cell_type": "code",
   "execution_count": 6,
   "metadata": {},
   "outputs": [
    {
     "name": "stderr",
     "output_type": "stream",
     "text": [
      "100%|██████████| 17/17 [00:00<00:00, 8743.49it/s]\n"
     ]
    },
    {
     "name": "stdout",
     "output_type": "stream",
     "text": [
      "Statring iteration 0\n",
      "{'ner': 508.2927660606205}\n",
      "Statring iteration 1\n",
      "{'ner': 184.23398949815297}\n",
      "Statring iteration 2\n",
      "{'ner': 199.96196750970915}\n",
      "Statring iteration 3\n",
      "{'ner': 307.292838427423}\n",
      "Statring iteration 4\n",
      "{'ner': 112.19064099245365}\n",
      "Statring iteration 5\n",
      "{'ner': 106.69040318161258}\n",
      "Statring iteration 6\n",
      "{'ner': 42.67644469480392}\n",
      "Statring iteration 7\n",
      "{'ner': 30.105218777831194}\n",
      "Statring iteration 8\n",
      "{'ner': 45.471992532560805}\n",
      "Statring iteration 9\n",
      "{'ner': 64.45962611683512}\n",
      "Statring iteration 10\n",
      "{'ner': 23.757781450974637}\n",
      "Statring iteration 11\n",
      "{'ner': 48.021418095545066}\n",
      "Statring iteration 12\n",
      "{'ner': 31.646068363254514}\n",
      "Statring iteration 13\n",
      "{'ner': 35.42434349871715}\n",
      "Statring iteration 14\n",
      "{'ner': 29.082801850413862}\n",
      "Statring iteration 15\n",
      "{'ner': 11.538083528591999}\n",
      "Statring iteration 16\n",
      "{'ner': 32.24703219273429}\n",
      "Statring iteration 17\n",
      "{'ner': 50.01083937991246}\n",
      "Statring iteration 18\n",
      "{'ner': 44.967517761627825}\n",
      "Statring iteration 19\n",
      "{'ner': 19.894942703775815}\n"
     ]
    }
   ],
   "source": [
    "## Training a blank spacy english model.\n",
    "\n",
    "nlp = spacy.blank('en')  # create blank Language class\n",
    "# create the built-in pipeline components and add them to the pipeline\n",
    "# nlp.create_pipe works for built-ins that are registered with spaCy\n",
    "if 'ner' not in nlp.pipe_names:\n",
    "    ner = nlp.create_pipe('ner')\n",
    "    nlp.add_pipe(ner, last=True)\n",
    "\n",
    "# add labels\n",
    "for _, annotations in tqdm(training_data):\n",
    "    for ent in annotations.get('entities'):\n",
    "        ner.add_label(ent[2])\n",
    "\n",
    "# get names of other pipes to disable them during training\n",
    "other_pipes = [pipe for pipe in nlp.pipe_names if pipe != 'ner']\n",
    "with nlp.disable_pipes(*other_pipes):  # only train NER\n",
    "    optimizer = nlp.begin_training()\n",
    "    for itn in range(20):\n",
    "        print(\"Statring iteration \" + str(itn))\n",
    "        random.shuffle(training_data)\n",
    "        losses = {}\n",
    "        for text, annotations in training_data:\n",
    "            nlp.update(\n",
    "                [text],  # batch of texts\n",
    "                [annotations],  # batch of annotations\n",
    "                drop=0.2,  # dropout - make it harder to memorise data\n",
    "                sgd=optimizer,  # callable to update weights\n",
    "                losses=losses)\n",
    "        print(losses)"
   ]
  },
  {
   "cell_type": "code",
   "execution_count": 12,
   "metadata": {},
   "outputs": [],
   "source": [
    "nlp.to_disk(\"medical_Advice_model\")"
   ]
  },
  {
   "cell_type": "code",
   "execution_count": 17,
   "metadata": {},
   "outputs": [],
   "source": [
    "import spacy\n",
    "nlp4=spacy.load(\"medical_Advice_model\")"
   ]
  },
  {
   "cell_type": "code",
   "execution_count": 42,
   "metadata": {},
   "outputs": [],
   "source": [
    "doc=nlp4(open(\"./VKCCC/MR_10.txt\").read())"
   ]
  },
  {
   "cell_type": "code",
   "execution_count": 43,
   "metadata": {},
   "outputs": [
    {
     "name": "stdout",
     "output_type": "stream",
     "text": [
      "Hi Miss Kumari Sneha, Your age is 43 years.According to your problems i have read you are having the problems of difficulty swallowing,Unusual vaginal bleeding.According to your report,There is a chance of disease Volvulus.You have to take the medicines HalfLytely and Bisacodyl: 15 mg , Acetaminophen: 520 mg;Haloperidol Decanoate 1 g (as sodium salt),Halothane :250 mg or 1 g (as pentahydrate) in vial.You should wash fruits and vegetables befor eating,You should avoid contact with people.Try to eat black grapes and not jumk foods.\n",
      "\n",
      "\n"
     ]
    }
   ],
   "source": [
    "print(doc)"
   ]
  },
  {
   "cell_type": "code",
   "execution_count": 44,
   "metadata": {},
   "outputs": [
    {
     "name": "stdout",
     "output_type": "stream",
     "text": [
      "You should wash fruits and vegetables befor eating\n",
      "You should avoid contact with people\n",
      "Try to eat black grapes and not jumk foods\n"
     ]
    }
   ],
   "source": [
    "for entity in doc.ents:\n",
    "    print(entity.text)"
   ]
  },
  {
   "cell_type": "code",
   "execution_count": null,
   "metadata": {},
   "outputs": [],
   "source": []
  },
  {
   "cell_type": "code",
   "execution_count": null,
   "metadata": {},
   "outputs": [],
   "source": []
  },
  {
   "cell_type": "code",
   "execution_count": null,
   "metadata": {},
   "outputs": [],
   "source": []
  }
 ],
 "metadata": {
  "kernelspec": {
   "display_name": "Python 3",
   "language": "python",
   "name": "python3"
  },
  "language_info": {
   "codemirror_mode": {
    "name": "ipython",
    "version": 3
   },
   "file_extension": ".py",
   "mimetype": "text/x-python",
   "name": "python",
   "nbconvert_exporter": "python",
   "pygments_lexer": "ipython3",
   "version": "3.7.4"
  }
 },
 "nbformat": 4,
 "nbformat_minor": 2
}
