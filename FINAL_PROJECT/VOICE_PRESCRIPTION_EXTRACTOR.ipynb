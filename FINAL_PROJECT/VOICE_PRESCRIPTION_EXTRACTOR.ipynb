{
 "cells": [
  {
   "cell_type": "code",
   "execution_count": 32,
   "metadata": {},
   "outputs": [],
   "source": [
    "d={\"Name\":[],\"Age\":[],\"Symptoms\":[],\"Disease\":[],\"Medicines\":[],\"Advices\":[]}"
   ]
  },
  {
   "cell_type": "markdown",
   "metadata": {},
   "source": [
    "- ### Identify Name"
   ]
  },
  {
   "cell_type": "code",
   "execution_count": 33,
   "metadata": {},
   "outputs": [
    {
     "name": "stdout",
     "output_type": "stream",
     "text": [
      "Ramesh Kumar ab 25 years . So you have the problem of excessive thirst and hunger frequent urination . According to the report what I found is that you are suffering from breast cancer . The press card medicine are septran hydrocal hydrochloride 20 MG alprazolam 1 mg . You should always maintain your balance diet as prescribed I would also recommend you to take soup in morning and evening . You are suffering from malarial infection . You should always keep your mouth shut \n"
     ]
    }
   ],
   "source": [
    "input_file=open(\"MR_256.txt\").read()\n",
    "print(input_file)"
   ]
  },
  {
   "cell_type": "code",
   "execution_count": 34,
   "metadata": {},
   "outputs": [],
   "source": [
    "import pickle\n",
    "with open('whitelist.pkl', 'rb') as f:\n",
    "    data = pickle.load(f)"
   ]
  },
  {
   "cell_type": "code",
   "execution_count": 35,
   "metadata": {},
   "outputs": [],
   "source": [
    "import spacy\n",
    "nlp5=spacy.load(\"new_model_5\")\n",
    "doc=nlp5(input_file)\n",
    "for entity in doc.ents:\n",
    "    d[\"Name\"].append(entity.text)"
   ]
  },
  {
   "cell_type": "code",
   "execution_count": 36,
   "metadata": {},
   "outputs": [],
   "source": [
    "# import spacy\n",
    "# nlp2=spacy.load('en_core_web_sm')\n",
    "# doc=nlp2(input_file)\n",
    "# string=\"NAME: \"\n",
    "# k=0\n",
    "# for token in doc:\n",
    "#     if((token.tag_==\"NN\" or token.tag_=='NNP') and str(token).lower() not in data):\n",
    "#         if k<2:\n",
    "#             d[\"Name\"].append(token.text)\n",
    "#             k+=1"
   ]
  },
  {
   "cell_type": "code",
   "execution_count": 37,
   "metadata": {},
   "outputs": [],
   "source": [
    "# with open(\"output.txt\",'a+') as f:\n",
    "#     f.write(string)\n",
    "#     f.write('\\n')"
   ]
  },
  {
   "cell_type": "markdown",
   "metadata": {},
   "source": [
    "- ## AGE Identifier"
   ]
  },
  {
   "cell_type": "code",
   "execution_count": 38,
   "metadata": {},
   "outputs": [
    {
     "name": "stdout",
     "output_type": "stream",
     "text": [
      "Ramesh Kumar ab 25 years . So you have the problem of excessive thirst and hunger frequent urination . According to the report what I found is that you are suffering from breast cancer . The press card medicine are septran hydrocal hydrochloride 20 MG alprazolam 1 mg . You should always maintain your balance diet as prescribed I would also recommend you to take soup in morning and evening . You are suffering from malarial infection . You should always keep your mouth shut \n"
     ]
    }
   ],
   "source": [
    "import spacy\n",
    "nlp=spacy.load(\"en_core_web_sm\")\n",
    "doc=nlp(input_file)\n",
    "print(doc)"
   ]
  },
  {
   "cell_type": "code",
   "execution_count": 39,
   "metadata": {},
   "outputs": [],
   "source": [
    "from spacy.matcher import PhraseMatcher\n",
    "import random\n",
    "age_list=[]\n",
    "matcher = PhraseMatcher(nlp.vocab, attr=\"SHAPE\")\n",
    "age_indicator=['YEAR', 'YEARS', 'Y/O', 'AGES', 'AGE', 'Y.O', 'Y.O.','AGED','AGE IS']\n",
    "matcher.add(\"age\", None, nlp(\"76 year old\"),nlp(\"aged 58\"),nlp('aged 123'),nlp(\"54 y/o\"),nlp(\"age is 59\"),nlp(\"123 y/o\"), nlp(\"ages 35\"),nlp(\"age 45\"),nlp(\"ages 123\"),nlp(\"age 123\"),nlp(\"54 years old\"),nlp(\"124 years old\"),nlp(\"41 y.o.\"),nlp(\"123 y.o.\"),nlp('113 year old'))"
   ]
  },
  {
   "cell_type": "code",
   "execution_count": 40,
   "metadata": {},
   "outputs": [],
   "source": [
    "for match_id, start, end in matcher(doc):\n",
    "    t=doc[start:end]\n",
    "    break\n",
    "string=\"\"\n",
    "for i in t.text:\n",
    "    if((i).isdigit()):\n",
    "        string+=str(i)\n",
    "d[\"Age\"].append(string)"
   ]
  },
  {
   "cell_type": "code",
   "execution_count": 41,
   "metadata": {},
   "outputs": [],
   "source": [
    "# with open(\"output.txt\",'a') as f:\n",
    "#     f.write(string)\n",
    "#     f.write('\\n')"
   ]
  },
  {
   "cell_type": "code",
   "execution_count": 42,
   "metadata": {},
   "outputs": [],
   "source": [
    "# with open(\"output.txt\",'r') as f:\n",
    "#     print(f.read())"
   ]
  },
  {
   "cell_type": "code",
   "execution_count": 43,
   "metadata": {},
   "outputs": [],
   "source": [
    "# Delete file\n",
    "# import os\n",
    "# os.remove('output.txt')"
   ]
  },
  {
   "cell_type": "markdown",
   "metadata": {},
   "source": [
    " - ### Symptoms Identifier"
   ]
  },
  {
   "cell_type": "code",
   "execution_count": 44,
   "metadata": {},
   "outputs": [],
   "source": [
    "nlp4=spacy.load(\"new_model_3\")"
   ]
  },
  {
   "cell_type": "code",
   "execution_count": 45,
   "metadata": {},
   "outputs": [],
   "source": [
    "doc=nlp4(input_file)"
   ]
  },
  {
   "cell_type": "code",
   "execution_count": 46,
   "metadata": {},
   "outputs": [
    {
     "name": "stdout",
     "output_type": "stream",
     "text": [
      "Ramesh Kumar ab 25 years . So you have the problem of excessive thirst and hunger frequent urination . According to the report what I found is that you are suffering from breast cancer . The press card medicine are septran hydrocal hydrochloride 20 MG alprazolam 1 mg . You should always maintain your balance diet as prescribed I would also recommend you to take soup in morning and evening . You are suffering from malarial infection . You should always keep your mouth shut \n"
     ]
    }
   ],
   "source": [
    "print(doc)"
   ]
  },
  {
   "cell_type": "code",
   "execution_count": 47,
   "metadata": {},
   "outputs": [],
   "source": [
    "for entity in doc.ents:\n",
    "    d[\"Symptoms\"].append(entity.text)"
   ]
  },
  {
   "cell_type": "markdown",
   "metadata": {},
   "source": [
    "- ## Disease Identifier"
   ]
  },
  {
   "cell_type": "code",
   "execution_count": 48,
   "metadata": {},
   "outputs": [],
   "source": [
    "nlp5=spacy.load(\"new_model_2\")"
   ]
  },
  {
   "cell_type": "code",
   "execution_count": 49,
   "metadata": {},
   "outputs": [],
   "source": [
    "doc=nlp5(input_file)"
   ]
  },
  {
   "cell_type": "code",
   "execution_count": 50,
   "metadata": {},
   "outputs": [
    {
     "name": "stdout",
     "output_type": "stream",
     "text": [
      "Ramesh Kumar ab 25 years . So you have the problem of excessive thirst and hunger frequent urination . According to the report what I found is that you are suffering from breast cancer . The press card medicine are septran hydrocal hydrochloride 20 MG alprazolam 1 mg . You should always maintain your balance diet as prescribed I would also recommend you to take soup in morning and evening . You are suffering from malarial infection . You should always keep your mouth shut \n"
     ]
    }
   ],
   "source": [
    "print(doc)"
   ]
  },
  {
   "cell_type": "code",
   "execution_count": 51,
   "metadata": {},
   "outputs": [],
   "source": [
    "for entity in doc.ents:\n",
    "    d[\"Disease\"].append(entity.text)"
   ]
  },
  {
   "cell_type": "markdown",
   "metadata": {},
   "source": [
    "- ### Medicines Identifier"
   ]
  },
  {
   "cell_type": "code",
   "execution_count": 52,
   "metadata": {},
   "outputs": [],
   "source": [
    "nlp4=spacy.load(\"new_model_4\")"
   ]
  },
  {
   "cell_type": "code",
   "execution_count": 53,
   "metadata": {},
   "outputs": [],
   "source": [
    "doc=nlp4(input_file)"
   ]
  },
  {
   "cell_type": "code",
   "execution_count": 54,
   "metadata": {},
   "outputs": [
    {
     "name": "stdout",
     "output_type": "stream",
     "text": [
      "Ramesh Kumar ab 25 years . So you have the problem of excessive thirst and hunger frequent urination . According to the report what I found is that you are suffering from breast cancer . The press card medicine are septran hydrocal hydrochloride 20 MG alprazolam 1 mg . You should always maintain your balance diet as prescribed I would also recommend you to take soup in morning and evening . You are suffering from malarial infection . You should always keep your mouth shut \n"
     ]
    }
   ],
   "source": [
    "print(doc)"
   ]
  },
  {
   "cell_type": "code",
   "execution_count": 55,
   "metadata": {},
   "outputs": [],
   "source": [
    "for entity in doc.ents:\n",
    "    d[\"Medicines\"].append(entity.text)"
   ]
  },
  {
   "cell_type": "markdown",
   "metadata": {},
   "source": [
    "- ### Advices"
   ]
  },
  {
   "cell_type": "code",
   "execution_count": 56,
   "metadata": {},
   "outputs": [],
   "source": [
    "nlp6=spacy.load(\"medical_Advice_model\")"
   ]
  },
  {
   "cell_type": "code",
   "execution_count": 57,
   "metadata": {},
   "outputs": [],
   "source": [
    "doc=nlp6(input_file)"
   ]
  },
  {
   "cell_type": "code",
   "execution_count": 58,
   "metadata": {},
   "outputs": [
    {
     "name": "stdout",
     "output_type": "stream",
     "text": [
      "Ramesh Kumar ab 25 years . So you have the problem of excessive thirst and hunger frequent urination . According to the report what I found is that you are suffering from breast cancer . The press card medicine are septran hydrocal hydrochloride 20 MG alprazolam 1 mg . You should always maintain your balance diet as prescribed I would also recommend you to take soup in morning and evening . You are suffering from malarial infection . You should always keep your mouth shut \n"
     ]
    }
   ],
   "source": [
    "print(doc)"
   ]
  },
  {
   "cell_type": "code",
   "execution_count": 59,
   "metadata": {},
   "outputs": [],
   "source": [
    "for entity in doc.ents:\n",
    "    d[\"Advices\"].append(entity.text)"
   ]
  },
  {
   "cell_type": "code",
   "execution_count": 60,
   "metadata": {
    "scrolled": false
   },
   "outputs": [
    {
     "name": "stdout",
     "output_type": "stream",
     "text": [
      "Name  : ['Ramesh Kumar']\n",
      "Age  : ['20']\n",
      "Symptoms  : ['frequent urination']\n",
      "Disease  : ['breast cancer']\n",
      "Medicines  : ['1 mg']\n",
      "Advices  : ['You should always maintain your balance diet as prescribed I would also recommend you to take soup in morning and evening .', 'You should always keep your mouth shut']\n"
     ]
    }
   ],
   "source": [
    "for i,j in d.items():\n",
    "    print(i,\" :\",j)"
   ]
  },
  {
   "cell_type": "code",
   "execution_count": 61,
   "metadata": {},
   "outputs": [
    {
     "name": "stdout",
     "output_type": "stream",
     "text": [
      "{'Name': ['Ramesh Kumar'], 'Age': ['20'], 'Symptoms': ['frequent urination'], 'Disease': ['breast cancer'], 'Medicines': ['1 mg'], 'Advices': ['You should always maintain your balance diet as prescribed I would also recommend you to take soup in morning and evening .', 'You should always keep your mouth shut']}\n"
     ]
    }
   ],
   "source": [
    "print(d)"
   ]
  },
  {
   "cell_type": "code",
   "execution_count": 62,
   "metadata": {},
   "outputs": [],
   "source": [
    "# d.clear()"
   ]
  },
  {
   "cell_type": "code",
   "execution_count": null,
   "metadata": {},
   "outputs": [],
   "source": []
  },
  {
   "cell_type": "code",
   "execution_count": null,
   "metadata": {},
   "outputs": [],
   "source": []
  },
  {
   "cell_type": "code",
   "execution_count": null,
   "metadata": {},
   "outputs": [],
   "source": []
  },
  {
   "cell_type": "code",
   "execution_count": null,
   "metadata": {},
   "outputs": [],
   "source": []
  },
  {
   "cell_type": "code",
   "execution_count": null,
   "metadata": {},
   "outputs": [],
   "source": []
  },
  {
   "cell_type": "code",
   "execution_count": null,
   "metadata": {},
   "outputs": [],
   "source": []
  }
 ],
 "metadata": {
  "kernelspec": {
   "display_name": "Python 3",
   "language": "python",
   "name": "python3"
  },
  "language_info": {
   "codemirror_mode": {
    "name": "ipython",
    "version": 3
   },
   "file_extension": ".py",
   "mimetype": "text/x-python",
   "name": "python",
   "nbconvert_exporter": "python",
   "pygments_lexer": "ipython3",
   "version": "3.7.4"
  }
 },
 "nbformat": 4,
 "nbformat_minor": 2
}
