{
 "cells": [
  {
   "cell_type": "markdown",
   "metadata": {},
   "source": [
    "- ## Disease Idenfier"
   ]
  },
  {
   "cell_type": "code",
   "execution_count": 1,
   "metadata": {},
   "outputs": [],
   "source": [
    "import spacy\n",
    "from tqdm import tqdm\n",
    "import spacy\n",
    "import random\n",
    "import json\n",
    "import re"
   ]
  },
  {
   "cell_type": "code",
   "execution_count": 2,
   "metadata": {},
   "outputs": [],
   "source": [
    "training_data = []\n",
    "lines=[]\n",
    "with open('Disease Identifier.json', 'r',encoding=\"utf8\") as f:\n",
    "    lines = f.readlines()\n",
    "\n",
    "for line in lines:\n",
    "    data = json.loads(line)\n",
    "    text = data['content']\n",
    "    entities = []\n",
    "    if(data['annotation'] is not None):\n",
    "        for annotation in data['annotation']:\n",
    "              if(annotation is not None):\n",
    "                #only a single point in text annotation.\n",
    "                point = annotation['points'][0]\n",
    "                labels = annotation['label']\n",
    "                # handle both list of labels or a single label.\n",
    "                if not isinstance(labels, list):\n",
    "                    labels = [labels]\n",
    "\n",
    "                for label in labels:\n",
    "                    #dataturks indices are both inclusive [start, end] but spacy is not [start, end)\n",
    "                    entities.append((point['start'], point['end'] + 1 ,label))\n",
    "\n",
    "    if(entities != []):\n",
    "        training_data.append((text, {\"entities\" : entities}))"
   ]
  },
  {
   "cell_type": "code",
   "execution_count": 3,
   "metadata": {},
   "outputs": [
    {
     "data": {
      "text/plain": [
       "70"
      ]
     },
     "execution_count": 3,
     "metadata": {},
     "output_type": "execute_result"
    }
   ],
   "source": [
    "len(training_data)"
   ]
  },
  {
   "cell_type": "code",
   "execution_count": 4,
   "metadata": {},
   "outputs": [
    {
     "data": {
      "text/plain": [
       "[('Hi Mr Avnish Chaurasia of age 23 years.You have the problems of Unexpected weight loss,night sweats.You are having the disease Congenital Heart Disease.According to report What i found is that you are suffering from Tuberculosis.The prescribed medicine you have to take are chloramphenicol Oily suspension for injection*: 0.5 g (as sodiumsuccinate)/ mL in 2‐ mL ampoule,erythromycin Powder for oral liquid: 125 mg/5 mL (as stearate or estolate or ethyl succinate).You should flex your ankles every half hour or so while sitting.You should try Avoiding foods that trigger indigestion.Drink Warm water.',\n",
       "  {'entities': [(127, 151, 'Disease')]}),\n",
       " ('hello,Mahesh Rathore,You should try Chewing food slowly and thoroughly. You are 25 years old.Try Reducing or eliminating the use of alcohol, caffeine, and carbonated beverages.According to your problems i have read you are having the problems of loose stools,dry Cough.You are suffering from Measles.I am writing the medicines you have to take are clindamycin Capsule: 150 mg (as hydrochloride),vancomycin Powder for injection: 250 mg (as hydrochloride) in vial.',\n",
       "  {'entities': [(292, 299, 'Disease')]}),\n",
       " ('You are Ballu of age 30 years.You are having the problems of frequent respiratory infections,rapid breathing.You should try Avoiding shouting .You should try Raising your head with pillows or raising the head-end of your bed.The problem i found that you are  suffering from Leukemia.Medicines clofazimine Capsule: 50 mg 100 mg, rifampicin Solid oral dosage form: 150 mg; 300 mg.',\n",
       "  {'entities': [(273, 282, 'Disease')]}),\n",
       " ('Bittu kumar, Your age is 21 years.The problems you are having are cough,common cold,blood loss and shortness of breath at night.Report shows that you are suffering from Xerophthalmia.You should not to drink so much beer.You have to take the medicines bupivacaine Injection: 0.25% 0.5% (hydrochloride) in vial,amitriptyline Tablet: 75 mg.You should have to drink more water.',\n",
       "  {'entities': [(169, 182, 'Disease')]}),\n",
       " ('hello,Manish Kumar, You are 20 years old.You have specified the problems of breathing through the mouth ,fast breathing ,frequent respiratory infections.You should do more Exercise.You are suffering from Lyme disease.Medicines cloxacillin Capsule: 500 mg; 1 g (as sodium salt),ceftazidime Powder for injection: 250 mg or 1 g (as pentahydrate)in vial.You shouldn’t drink so much beer.You ought to drink more water.You should not to drink so much beer.',\n",
       "  {'entities': [(204, 216, 'Disease')]}),\n",
       " ('Harish Chandra, age 10 years.You have the problems of Indigestion,difficulty swallowing,Unusual vaginal bleeding.According to report What i found is that you are suffering from Molluscum contagiosum.I would recommend you to take healthy food.The prescribed medicine you have to take are docusate sodium Capsule: 100 mg,diazepam Injection: 5 mg/ mL.I would recommend you to take hot water.',\n",
       "  {'entities': [(177, 198, 'Disease')]})]"
      ]
     },
     "execution_count": 4,
     "metadata": {},
     "output_type": "execute_result"
    }
   ],
   "source": [
    "training_data[4:10]"
   ]
  },
  {
   "cell_type": "code",
   "execution_count": 5,
   "metadata": {},
   "outputs": [
    {
     "name": "stderr",
     "output_type": "stream",
     "text": [
      "100%|██████████| 70/70 [00:00<00:00, 43528.73it/s]\n"
     ]
    },
    {
     "name": "stdout",
     "output_type": "stream",
     "text": [
      "Statring iteration 0\n",
      "{'ner': 578.3663458628191}\n",
      "Statring iteration 1\n",
      "{'ner': 1002.5856584489034}\n",
      "Statring iteration 2\n",
      "{'ner': 1759.5136606996464}\n",
      "Statring iteration 3\n",
      "{'ner': 93.37986619397002}\n",
      "Statring iteration 4\n",
      "{'ner': 68.95422435931224}\n",
      "Statring iteration 5\n",
      "{'ner': 154.95998495088014}\n",
      "Statring iteration 6\n",
      "{'ner': 135.56074940329339}\n",
      "Statring iteration 7\n",
      "{'ner': 47.72477854134226}\n",
      "Statring iteration 8\n",
      "{'ner': 66.82497233759759}\n",
      "Statring iteration 9\n",
      "{'ner': 37.91689513402854}\n",
      "Statring iteration 10\n",
      "{'ner': 27.12119677987184}\n",
      "Statring iteration 11\n",
      "{'ner': 29.480055596507807}\n",
      "Statring iteration 12\n",
      "{'ner': 26.993614311598616}\n",
      "Statring iteration 13\n",
      "{'ner': 19.296016337054162}\n",
      "Statring iteration 14\n",
      "{'ner': 83.46708708557833}\n",
      "Statring iteration 15\n",
      "{'ner': 26.011229229336845}\n",
      "Statring iteration 16\n",
      "{'ner': 51.31065226055111}\n",
      "Statring iteration 17\n",
      "{'ner': 103.22975881620152}\n",
      "Statring iteration 18\n",
      "{'ner': 37.15102032451509}\n",
      "Statring iteration 19\n",
      "{'ner': 30.99860058136513}\n"
     ]
    }
   ],
   "source": [
    "## Training a blank spacy english model.\n",
    "\n",
    "nlp = spacy.blank('en')  # create blank Language class\n",
    "# create the built-in pipeline components and add them to the pipeline\n",
    "# nlp.create_pipe works for built-ins that are registered with spaCy\n",
    "if 'ner' not in nlp.pipe_names:\n",
    "    ner = nlp.create_pipe('ner')\n",
    "    nlp.add_pipe(ner, last=True)\n",
    "\n",
    "# add labels\n",
    "for _, annotations in tqdm(training_data):\n",
    "    for ent in annotations.get('entities'):\n",
    "        ner.add_label(ent[2])\n",
    "\n",
    "# get names of other pipes to disable them during training\n",
    "other_pipes = [pipe for pipe in nlp.pipe_names if pipe != 'ner']\n",
    "with nlp.disable_pipes(*other_pipes):  # only train NER\n",
    "    optimizer = nlp.begin_training()\n",
    "    for itn in range(20):\n",
    "        print(\"Statring iteration \" + str(itn))\n",
    "        random.shuffle(training_data)\n",
    "        losses = {}\n",
    "        for text, annotations in training_data:\n",
    "            nlp.update(\n",
    "                [text],  # batch of texts\n",
    "                [annotations],  # batch of annotations\n",
    "                drop=0.2,  # dropout - make it harder to memorise data\n",
    "                sgd=optimizer,  # callable to update weights\n",
    "                losses=losses)\n",
    "        print(losses)"
   ]
  },
  {
   "cell_type": "code",
   "execution_count": 6,
   "metadata": {},
   "outputs": [],
   "source": [
    "nlp.to_disk(\"new_model_2\")"
   ]
  },
  {
   "cell_type": "code",
   "execution_count": 7,
   "metadata": {},
   "outputs": [],
   "source": [
    "nlp5=spacy.load(\"new_model_2\")"
   ]
  },
  {
   "cell_type": "code",
   "execution_count": 49,
   "metadata": {},
   "outputs": [],
   "source": [
    "# doc=nlp5(open(\"./MEDICAL_REPORTS/TEST_REPORT_14.txt\").read())\n",
    "doc=nlp5(open(\"listfile.txt\").read())"
   ]
  },
  {
   "cell_type": "code",
   "execution_count": 50,
   "metadata": {},
   "outputs": [
    {
     "name": "stdout",
     "output_type": "stream",
     "text": [
      "suman kumar of age 30 years is having these symptoms of dry cough for last three days. but no fever and having running nose the diagnosis report says that the patient have disease acute bronchites and so i am prescribing the following medicines azithromycin 500mg once a day for three days, robitussin 5 ml thrice a day for 5 days and You should drink warm water and dont eat grapes. \n",
      "\n",
      "\n"
     ]
    }
   ],
   "source": [
    "print(doc)"
   ]
  },
  {
   "cell_type": "code",
   "execution_count": 51,
   "metadata": {},
   "outputs": [
    {
     "name": "stdout",
     "output_type": "stream",
     "text": [
      "disease acute bronchites and so i am prescribing the following medicines azithromycin 500mg once a day for three days, robitussin 5 ml thrice a day for 5 days and You should drink warm water and dont eat grapes. \n",
      "\n",
      "\n"
     ]
    }
   ],
   "source": [
    "for entity in doc.ents:\n",
    "    print(entity.text)"
   ]
  },
  {
   "cell_type": "code",
   "execution_count": null,
   "metadata": {},
   "outputs": [],
   "source": []
  }
 ],
 "metadata": {
  "kernelspec": {
   "display_name": "Python 3",
   "language": "python",
   "name": "python3"
  },
  "language_info": {
   "codemirror_mode": {
    "name": "ipython",
    "version": 3
   },
   "file_extension": ".py",
   "mimetype": "text/x-python",
   "name": "python",
   "nbconvert_exporter": "python",
   "pygments_lexer": "ipython3",
   "version": "3.7.4"
  }
 },
 "nbformat": 4,
 "nbformat_minor": 2
}
