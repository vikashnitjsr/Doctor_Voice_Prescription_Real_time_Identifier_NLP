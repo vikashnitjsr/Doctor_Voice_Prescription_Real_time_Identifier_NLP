{
 "cells": [
  {
   "cell_type": "code",
   "execution_count": 1,
   "metadata": {},
   "outputs": [],
   "source": [
    "import spacy"
   ]
  },
  {
   "cell_type": "code",
   "execution_count": 2,
   "metadata": {},
   "outputs": [],
   "source": [
    "from tqdm import tqdm\n",
    "import spacy\n",
    "import random\n",
    "import json\n",
    "import re"
   ]
  },
  {
   "cell_type": "code",
   "execution_count": 3,
   "metadata": {},
   "outputs": [],
   "source": [
    "training_data = []\n",
    "lines=[]\n",
    "with open('Name_trainer.json', 'r',encoding=\"utf8\") as f:\n",
    "    lines = f.readlines()\n",
    "\n",
    "for line in lines:\n",
    "    data = json.loads(line)\n",
    "    text = data['content']\n",
    "    entities = []\n",
    "    if(data['annotation'] is not None):\n",
    "        for annotation in data['annotation']:\n",
    "              if(annotation is not None):\n",
    "                #only a single point in text annotation.\n",
    "                point = annotation['points'][0]\n",
    "                labels = annotation['label']\n",
    "                # handle both list of labels or a single label.\n",
    "                if not isinstance(labels, list):\n",
    "                    labels = [labels]\n",
    "\n",
    "                for label in labels:\n",
    "                    #dataturks indices are both inclusive [start, end] but spacy is not [start, end)\n",
    "                    entities.append((point['start'], point['end'] + 1 ,label))\n",
    "\n",
    "    if(entities != []):\n",
    "        training_data.append((text, {\"entities\" : entities}))"
   ]
  },
  {
   "cell_type": "code",
   "execution_count": 4,
   "metadata": {},
   "outputs": [
    {
     "data": {
      "text/plain": [
       "123"
      ]
     },
     "execution_count": 4,
     "metadata": {},
     "output_type": "execute_result"
    }
   ],
   "source": [
    "len(training_data)"
   ]
  },
  {
   "cell_type": "code",
   "execution_count": 5,
   "metadata": {},
   "outputs": [
    {
     "data": {
      "text/plain": [
       "[('Hi Miss Kumari Sneha, Your age is 23 years.So you stated the problems of loss of appetite,poor appetite.Report shows that you are suffering from breast cancer.The prescribed medicine you have to take are ethosuximide 500 mg once a day for 5 days,amoxicillin Solid ml thrice a day for 5 days.You should avoid sugary snacks,You should focus on lifestyle changes.',\n",
       "  {'entities': [(2, 20, 'Name')]}),\n",
       " ('You are Vikash maharaja of age 35 years.So, you have the problems of Unusual vaginal bleeding,discharge.Report shows that you are suffering from AIDS.You have to take the medicines dexamethasone Oral liquid, amitriptyline Tablet: 75 mg,enicillamine Solid oral: 500 mg, 1 g (as sodium salt),ceftazidime Powder for injection: 250 mg or 1 g (as pentahydrate) in vial.You should not get too much stressed,\\nYou should do water splashes on your face.',\n",
       "  {'entities': [(8, 23, 'Name')]}),\n",
       " ('Hi Mr Kamlesh Hansda of age 23 years.The symptoms you are having are Slow-healing wounds,Nausea.You are suffering from Volvulus.You have to take the medicines ampicillin Powder,dexamethasone : 75 mg,: 500 mg;acetylcysteine 1 g (as sodium salt),ceftazidime Powder for injection: 150 mg or 1 g (as pentahydrate) in vial.You should walk wherever possible,\\nYou should not look at a sreen for longer hours.',\n",
       "  {'entities': [(3, 21, 'Name')]}),\n",
       " ('Gud morning Mr Sahrukh Verma, your age is 32 years.The problems you are having are Skin rash,joint pain.According to your report,There is a chance of disease Polio.You have to take the medicines Abatacept: 25 mg,: 300 mg;Acamprosate Calcium 1 g (as sodium salt),Accretropin : 250 mg or 1 g (as pentahydrate) in vial.You should keep your surroundings clean,You should avoid straining when on toilet.',\n",
       "  {'entities': [(12, 28, 'Name')]}),\n",
       " ('You are Ranjat chaurasia of age 13 years.According to your problems i have read you are having the problems of Fatigue,Irritability.According to your report,There is a chance of disease Anemia.You have to take the medicines Halcinonide: 15 mg , Acetaminophen: 520 mg ,Acebutolol 1 g (as sodium salt),Actemra :250 mg or 1 g (as pentahydrate) in vial.You should go to the toilet as soon as you feel the urge,You should keep warm.',\n",
       "  {'entities': [(8, 25, 'Name')]}),\n",
       " ('Hi Miss Kumari Sneha, Your age is 43 years.According to your problems i have read you are having the problems of difficulty swallowing,Unusual vaginal bleeding.According to your report,There is a chance of disease Volvulus.You have to take the medicines HalfLytely and Bisacodyl: 15 mg , Acetaminophen: 520 mg;Haloperidol Decanoate 1 g (as sodium salt),Halothane :250 mg or 1 g (as pentahydrate) in vial.You should wash fruits and vegetables befor eating,You should avoid contact with people.',\n",
       "  {'entities': [(2, 20, 'Name')]}),\n",
       " ('Pankaj Agrawal of age 12 years from Bihar.According to your problems i have read you are having the problems of Excessive thirst and hunger,Frequent urination .According to your report,There is a chance of disease Dengue.The prescribed medicine you have to take are Acular: 250 mg (as embonate orpamoate).Adalimumab (chewable): 400 mg,Adriamycin PFS (scored): 3 mg.You should wear clean clothes,You should keep your surroundings clean.',\n",
       "  {'entities': [(0, 14, 'Name')]}),\n",
       " ('hello,Mukesh Paswan You are 23 years old.According to your problems i have read you are having the problems of headache,high fever.According to your report,There is a chance of disease typhoid.The prescribed medicine you have to take are Agalsidase Beta: 50 mg,Alclometasone Dipropionate (chewable): 400 mg,Aldesleukin (scored): 1 mg.\\nYou should change your bandages regularly,You should not move your legs when fractured.',\n",
       "  {'entities': [(6, 19, 'Name')]}),\n",
       " ('Hi Miss Sonam Shukla, Your age is 25 years.According to your problems i have read you are having the problems of joint pain,loss of appetite.According to report What i found is that you are suffering from Rheumatic fever.The prescribed medicine you have to take are Almotriptan Malate: 20 mg,Allegra-D (chewable): 400 mg,Almotriptan Malate: 1 mg.\\nYou should avoid straining when on toilet,You should avoid sitting for longer periods.',\n",
       "  {'entities': [(3, 20, 'Name')]}),\n",
       " ('Ramesh Kumar 21 years.So, you have the problems of Excessive thirst and hunger,Frequent urination.According to report What i found is that you are suffering from Breast cancer.The prescribed medicine you have to take are Alosetron Hydrochloride: 20 mg,Alprazolam: 200 mg,Altretamine: 1 mg.You should avoid taking sleeping tablets,You should sleep on the rack rather than on the back.',\n",
       "  {'entities': [(0, 12, 'Name')]}),\n",
       " ('Rohit Mehra of age  45 years from Bihar.According to your query you have the symptoms of Weight loss,weight gain.According to report What i found is that you are suffering from Hepatits A.The prescribed medicine you have to take are GlucaGen: 20 mg,Glycopyrrolate: 200 mg,Glynase: 1 mg.You should Avoid oil based cosmetic products that require solvents for removal,You should Gently clean your skin twice daily using a gentle, soap-free, non-abrasive cleanser.',\n",
       "  {'entities': [(0, 11, 'Name')]})]"
      ]
     },
     "execution_count": 5,
     "metadata": {},
     "output_type": "execute_result"
    }
   ],
   "source": [
    "training_data[4:15]"
   ]
  },
  {
   "cell_type": "code",
   "execution_count": 6,
   "metadata": {},
   "outputs": [
    {
     "name": "stderr",
     "output_type": "stream",
     "text": [
      "100%|██████████| 123/123 [00:00<00:00, 194239.23it/s]\n"
     ]
    },
    {
     "name": "stdout",
     "output_type": "stream",
     "text": [
      "Statring iteration 0\n",
      "{'ner': 476.3626137987065}\n",
      "Statring iteration 1\n",
      "{'ner': 174.42816567200663}\n",
      "Statring iteration 2\n",
      "{'ner': 202.43390492135129}\n",
      "Statring iteration 3\n",
      "{'ner': 581.7451830502296}\n",
      "Statring iteration 4\n",
      "{'ner': 339.53580060551707}\n",
      "Statring iteration 5\n",
      "{'ner': 640.8368433617105}\n",
      "Statring iteration 6\n",
      "{'ner': 386.3587355098326}\n",
      "Statring iteration 7\n",
      "{'ner': 504.3176568816565}\n",
      "Statring iteration 8\n",
      "{'ner': 568.0114353846583}\n",
      "Statring iteration 9\n",
      "{'ner': 448.06543489909154}\n",
      "Statring iteration 10\n",
      "{'ner': 495.26749445407455}\n",
      "Statring iteration 11\n",
      "{'ner': 428.89080460056135}\n",
      "Statring iteration 12\n",
      "{'ner': 419.24027060907616}\n",
      "Statring iteration 13\n",
      "{'ner': 551.7962856395391}\n",
      "Statring iteration 14\n",
      "{'ner': 233.26353091017245}\n",
      "Statring iteration 15\n",
      "{'ner': 439.1780735861503}\n",
      "Statring iteration 16\n",
      "{'ner': 191.32717677221888}\n",
      "Statring iteration 17\n",
      "{'ner': 6.382811917109723}\n",
      "Statring iteration 18\n",
      "{'ner': 3.744885831555496}\n",
      "Statring iteration 19\n",
      "{'ner': 1.9379337076218286}\n"
     ]
    }
   ],
   "source": [
    "## Training a blank spacy english model.\n",
    "\n",
    "nlp = spacy.blank('en')  # create blank Language class\n",
    "# create the built-in pipeline components and add them to the pipeline\n",
    "# nlp.create_pipe works for built-ins that are registered with spaCy\n",
    "if 'ner' not in nlp.pipe_names:\n",
    "    ner = nlp.create_pipe('ner')\n",
    "    nlp.add_pipe(ner, last=True)\n",
    "\n",
    "# add labels\n",
    "for _, annotations in tqdm(training_data):\n",
    "    for ent in annotations.get('entities'):\n",
    "        ner.add_label(ent[2])\n",
    "\n",
    "# get names of other pipes to disable them during training\n",
    "other_pipes = [pipe for pipe in nlp.pipe_names if pipe != 'ner']\n",
    "with nlp.disable_pipes(*other_pipes):  # only train NER\n",
    "    optimizer = nlp.begin_training()\n",
    "    for itn in range(20):\n",
    "        print(\"Statring iteration \" + str(itn))\n",
    "        random.shuffle(training_data)\n",
    "        losses = {}\n",
    "        for text, annotations in training_data:\n",
    "            nlp.update(\n",
    "                [text],  # batch of texts\n",
    "                [annotations],  # batch of annotations\n",
    "                drop=0.2,  # dropout - make it harder to memorise data\n",
    "                sgd=optimizer,  # callable to update weights\n",
    "                losses=losses)\n",
    "        print(losses)"
   ]
  },
  {
   "cell_type": "code",
   "execution_count": 8,
   "metadata": {},
   "outputs": [],
   "source": [
    "nlp.to_disk(\"new_model_5\")"
   ]
  },
  {
   "cell_type": "code",
   "execution_count": 9,
   "metadata": {},
   "outputs": [],
   "source": [
    "import spacy\n",
    "nlp4=spacy.load(\"new_model_5\")"
   ]
  },
  {
   "cell_type": "code",
   "execution_count": 10,
   "metadata": {},
   "outputs": [],
   "source": [
    "doc=nlp4(open(\"./MEDICAL_REPORTS/TEST_REPORT_11.txt\").read())"
   ]
  },
  {
   "cell_type": "code",
   "execution_count": 11,
   "metadata": {},
   "outputs": [
    {
     "data": {
      "text/plain": [
       "hello,Piyush Jagga, You are 25 years old.According to your problems i have read you are having the problems of Persistent lumps,swollen glands.You are suffering from problem of disease HIV.Medicines diazepam Gel or rectal solution: 5 mg/ mL in 0.5 mL 2‐ mL 4‐mL tubes,lorazepam Parenteral formulation: 2 mg/ mL in 1‐ mL ampoule; 4 mg/ mL in 1‐ mL ampoule.avoid lifting heavy weights.You should maintain your Body Mass Index.I would suggest doing more of effort."
      ]
     },
     "execution_count": 11,
     "metadata": {},
     "output_type": "execute_result"
    }
   ],
   "source": [
    "doc"
   ]
  },
  {
   "cell_type": "code",
   "execution_count": 12,
   "metadata": {},
   "outputs": [
    {
     "name": "stdout",
     "output_type": "stream",
     "text": [
      "Piyush Jagga\n"
     ]
    }
   ],
   "source": [
    "for entity in doc.ents:\n",
    "    print(entity.text)"
   ]
  },
  {
   "cell_type": "code",
   "execution_count": null,
   "metadata": {},
   "outputs": [],
   "source": []
  },
  {
   "cell_type": "code",
   "execution_count": null,
   "metadata": {},
   "outputs": [],
   "source": []
  }
 ],
 "metadata": {
  "kernelspec": {
   "display_name": "Python 3",
   "language": "python",
   "name": "python3"
  },
  "language_info": {
   "codemirror_mode": {
    "name": "ipython",
    "version": 3
   },
   "file_extension": ".py",
   "mimetype": "text/x-python",
   "name": "python",
   "nbconvert_exporter": "python",
   "pygments_lexer": "ipython3",
   "version": "3.7.4"
  }
 },
 "nbformat": 4,
 "nbformat_minor": 2
}
