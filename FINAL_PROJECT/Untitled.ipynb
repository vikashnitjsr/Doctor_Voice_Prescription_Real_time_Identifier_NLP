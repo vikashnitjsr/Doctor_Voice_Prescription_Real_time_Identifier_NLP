{
 "cells": [
  {
   "cell_type": "code",
   "execution_count": 1,
   "metadata": {},
   "outputs": [],
   "source": [
    "d={\"Name\":[],\"Age\":[],\"Symptoms\":[],\"Disease\":[],\"Medicines\":[],\"Advices\":[]}"
   ]
  },
  {
   "cell_type": "code",
   "execution_count": 2,
   "metadata": {},
   "outputs": [],
   "source": [
    "import pickle\n",
    "with open('whitelist.pkl', 'rb') as f:\n",
    "    data = pickle.load(f)"
   ]
  },
  {
   "cell_type": "code",
   "execution_count": 3,
   "metadata": {},
   "outputs": [],
   "source": [
    "def find_name(input_file):\n",
    "    import spacy\n",
    "    nlp2=spacy.load('en_core_web_sm')\n",
    "    doc=nlp2(input_file)\n",
    "    string=\"NAME: \"\n",
    "    for token in doc:\n",
    "        if((token.tag_==\"NN\" or token.tag_=='NNP') and str(token).lower() not in data):\n",
    "            d[\"Name\"].append(token.text)\n",
    "            break"
   ]
  },
  {
   "cell_type": "code",
   "execution_count": 4,
   "metadata": {},
   "outputs": [],
   "source": [
    "def find_age(input_file):\n",
    "    import spacy\n",
    "    nlp=spacy.load(\"en_core_web_sm\")\n",
    "    doc=nlp(input_file)\n",
    "    #print(doc)\n",
    "    from spacy.matcher import PhraseMatcher\n",
    "    import random\n",
    "    age_list=[]\n",
    "    matcher = PhraseMatcher(nlp.vocab, attr=\"SHAPE\")\n",
    "    age_indicator=['YEAR', 'YEARS', 'Y/O', 'AGES', 'AGE', 'Y.O', 'Y.O.','AGED','AGE IS']\n",
    "    matcher.add(\"age\", None, nlp(\"76 year old\"),nlp(\"aged 58\"),nlp('aged 123'),nlp(\"54 y/o\"),nlp(\"age is 59\"),nlp(\"123 y/o\"), nlp(\"ages 35\"),nlp(\"age 45\"),nlp(\"ages 123\"),nlp(\"age 123\"),nlp(\"54 years old\"),nlp(\"124 years old\"),nlp(\"41 y.o.\"),nlp(\"123 y.o.\"),nlp('113 year old'))\n",
    "    \n",
    "    for match_id, start, end in matcher(doc):\n",
    "        t=doc[start:end]\n",
    "        break\n",
    "        string=\"\"\n",
    "        for i in t.text:\n",
    "            if((i).isdigit()):\n",
    "                string+=str(i)\n",
    "        d[\"Age\"].append(string)"
   ]
  },
  {
   "cell_type": "code",
   "execution_count": 5,
   "metadata": {},
   "outputs": [],
   "source": [
    "def Symptoms_Identifier(input_file):\n",
    "    import spacy\n",
    "    nlp4=spacy.load(\"new_model_3\")\n",
    "    doc=nlp4(input_file)\n",
    "    for entity in doc.ents:\n",
    "        d[\"Symptoms\"].append(entity.text)"
   ]
  },
  {
   "cell_type": "code",
   "execution_count": 6,
   "metadata": {},
   "outputs": [],
   "source": [
    "def Disease_Identifier(input_file):\n",
    "    import spacy\n",
    "    nlp5=spacy.load(\"new_model_2\")\n",
    "    for entity in doc.ents:\n",
    "        d[\"Disease\"].append(entity.text)"
   ]
  },
  {
   "cell_type": "code",
   "execution_count": 7,
   "metadata": {},
   "outputs": [],
   "source": [
    "def Medicines_Identifier(input_file):\n",
    "    nlp4=spacy.load(\"new_model_4\")\n",
    "    doc=nlp4(input_file)\n",
    "    for entity in doc.ents:\n",
    "        d[\"Medicines\"].append(entity.text)"
   ]
  },
  {
   "cell_type": "code",
   "execution_count": 8,
   "metadata": {},
   "outputs": [],
   "source": [
    "def Advices(input_file):\n",
    "    import spacy\n",
    "    nlp6=spacy.load(\"new_model_1\")\n",
    "    doc=nlp6(input_file)\n",
    "    for entity in doc.ents:\n",
    "        d[\"Advices\"].append(entity.text)"
   ]
  },
  {
   "cell_type": "code",
   "execution_count": 9,
   "metadata": {},
   "outputs": [],
   "source": [
    "def print_dict(d):\n",
    "    for i,j in d.items():\n",
    "        print(i,\" :\",j)"
   ]
  },
  {
   "cell_type": "code",
   "execution_count": 11,
   "metadata": {},
   "outputs": [
    {
     "name": "stdout",
     "output_type": "stream",
     "text": [
      "0\n"
     ]
    }
   ],
   "source": [
    "c=0\n",
    "for i in range(400):\n",
    "    try:\n",
    "        input_file=open(\"./MEDICAL_REPORTS_2020/TEST_REPORT_\"+str(i)+\".txt\").read()\n",
    "        find_name(input_file)\n",
    "        find_age(input_file)\n",
    "        Symptoms_Identifier(input_file)\n",
    "        Disease_Identifier(input_file)\n",
    "        Medicines_Identifier(input_file)\n",
    "        Advices(input_file)\n",
    "        print(\"*\"*60)\n",
    "        print(d)\n",
    "        #print_dict(d)\n",
    "        d.clear()\n",
    "        print(\"*\"*60)\n",
    "        c+=1\n",
    "        print()\n",
    "    except:\n",
    "        pass"
   ]
  },
  {
   "cell_type": "code",
   "execution_count": null,
   "metadata": {},
   "outputs": [],
   "source": []
  },
  {
   "cell_type": "code",
   "execution_count": null,
   "metadata": {},
   "outputs": [],
   "source": []
  },
  {
   "cell_type": "code",
   "execution_count": null,
   "metadata": {},
   "outputs": [],
   "source": []
  },
  {
   "cell_type": "code",
   "execution_count": null,
   "metadata": {},
   "outputs": [],
   "source": []
  }
 ],
 "metadata": {
  "kernelspec": {
   "display_name": "Python 3",
   "language": "python",
   "name": "python3"
  },
  "language_info": {
   "codemirror_mode": {
    "name": "ipython",
    "version": 3
   },
   "file_extension": ".py",
   "mimetype": "text/x-python",
   "name": "python",
   "nbconvert_exporter": "python",
   "pygments_lexer": "ipython3",
   "version": "3.7.4"
  }
 },
 "nbformat": 4,
 "nbformat_minor": 2
}
