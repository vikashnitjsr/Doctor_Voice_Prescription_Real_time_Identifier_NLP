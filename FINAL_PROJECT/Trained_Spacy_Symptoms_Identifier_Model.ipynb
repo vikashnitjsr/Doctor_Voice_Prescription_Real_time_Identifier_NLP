{
 "cells": [
  {
   "cell_type": "markdown",
   "metadata": {},
   "source": [
    "## SYMPTOMS_Identifier"
   ]
  },
  {
   "cell_type": "code",
   "execution_count": 1,
   "metadata": {},
   "outputs": [],
   "source": [
    "import spacy"
   ]
  },
  {
   "cell_type": "code",
   "execution_count": 2,
   "metadata": {},
   "outputs": [],
   "source": [
    "from tqdm import tqdm\n",
    "import spacy\n",
    "import random\n",
    "import json\n",
    "import re"
   ]
  },
  {
   "cell_type": "code",
   "execution_count": 3,
   "metadata": {},
   "outputs": [],
   "source": [
    "training_data = []\n",
    "lines=[]\n",
    "with open('Copy of Trained_Advice.json', 'r',encoding=\"utf8\") as f:\n",
    "    lines = f.readlines()\n",
    "\n",
    "for line in lines:\n",
    "    data = json.loads(line)\n",
    "    text = data['content']\n",
    "    entities = []\n",
    "    if(data['annotation'] is not None):\n",
    "        for annotation in data['annotation']:\n",
    "              if(annotation is not None):\n",
    "                #only a single point in text annotation.\n",
    "                point = annotation['points'][0]\n",
    "                labels = annotation['label']\n",
    "                # handle both list of labels or a single label.\n",
    "                if not isinstance(labels, list):\n",
    "                    labels = [labels]\n",
    "\n",
    "                for label in labels:\n",
    "                    #dataturks indices are both inclusive [start, end] but spacy is not [start, end)\n",
    "                    entities.append((point['start'], point['end'] + 1 ,label))\n",
    "\n",
    "    if(entities != []):\n",
    "        training_data.append((text, {\"entities\" : entities}))"
   ]
  },
  {
   "cell_type": "code",
   "execution_count": 4,
   "metadata": {},
   "outputs": [
    {
     "data": {
      "text/plain": [
       "18"
      ]
     },
     "execution_count": 4,
     "metadata": {},
     "output_type": "execute_result"
    }
   ],
   "source": [
    "len(training_data)"
   ]
  },
  {
   "cell_type": "code",
   "execution_count": 5,
   "metadata": {},
   "outputs": [
    {
     "data": {
      "text/plain": [
       "[('Abhijit kaushal, your age is 29 yeras.I have the symptoms of High fever and Nousia.The problem i found that you are  suffering from Tetanus.The prescribed medicine you have to take are pyrantel,Tablet (chewable): 250 mg (as embonate orpamoate).You should try Physical activity which promotes blood circulation.',\n",
       "  {'entities': [(75, 82, 'ADVICES'), (61, 71, 'ADVICES')]}),\n",
       " ('Hi Mr Avnish Chaurasia of age 23 years.I have the problems of Unexpected weight loss,night sweats.You are having the Congenital Heart Disease.According to report What i found is that you are suffering from Tuberculosis.The prescribed medicine you have to take are chloramphenicol Oily suspension for injection*: 0.5 g (as sodiumsuccinate)/ mL in 2‐ mL ampoule,erythromycin Powder for oral liquid: 125 mg/5 mL (as stearate or estolate or ethyl succinate).You should flex your ankles every half hour or so while sitting.You should try Avoiding foods that trigger indigestion.Drink Warm water.',\n",
       "  {'entities': [(85, 97, 'ADVICES'), (62, 84, 'ADVICES')]}),\n",
       " ('Hi, You are Prabhat Kumawat of age 20 years.I am suffering from corona Virus.You have very severe problem of disease Infectious mononucleosis.You have to take the medicines gentamicin Injection: 10 mg 40 mg (as sulfate)/ mL in 2‐ mLvial,metronidazole Suppository: 500 mg 1 g.Use alcohol-free facial products.My advice is not use decongestants because they can dry out your throat.You should try Using warm saline water as a mouth wash,',\n",
       "  {'entities': [(64, 76, 'ADVICES')]}),\n",
       " ('hello,Mahesh Rathore,You should try Chewing food slowly and thoroughly. You are 25 years old.Try Reducing or eliminating the use of alcohol, caffeine, and carbonated beverages.I have the problems of loose stools,dry Cough.You are suffering from Measles.I am writing the medicines you have to take are clindamycin Capsule: 150 mg (as hydrochloride),vancomycin Powder for injection: 250 mg (as hydrochloride) in vial.',\n",
       "  {'entities': [(212, 221, 'ADVICES'), (199, 211, 'ADVICES')]}),\n",
       " ('You are Ballu of age 30 years.I am suffering from nose infections and Viral fever and common cold.You should try Avoiding shouting .You should try Raising your head with pillows or raising the head-end of your bed.The problem i found that you are  suffering from Leukemia.Medicines clofazimine Capsule: 50 mg 100 mg, rifampicin Solid oral dosage form: 150 mg; 300 mg.',\n",
       "  {'entities': [(86, 97, 'ADVICES'),\n",
       "    (70, 81, 'ADVICES'),\n",
       "    (50, 65, 'ADVICES')]}),\n",
       " ('Hi Miss Rekha jagwani, Your age is 45 years.I have symptoms of Hoarseness,Persistent lumps,swollen glands.The problem i found that you are  suffering from Meningitis. you should take heiganic food with fruit on your diet. Medicines amoxicillin Solid oral dosage form: 250 mg 500 mg (astrihydrate),ampicillin Powder for injection: 500 mg; 1 g (as sodium salt).you should try .you should try to drink more water and take healthy and balance  diet.',\n",
       "  {'entities': [(91, 105, 'ADVICES'),\n",
       "    (74, 90, 'ADVICES'),\n",
       "    (63, 73, 'ADVICES')]})]"
      ]
     },
     "execution_count": 5,
     "metadata": {},
     "output_type": "execute_result"
    }
   ],
   "source": [
    "training_data[4:10]"
   ]
  },
  {
   "cell_type": "code",
   "execution_count": 6,
   "metadata": {},
   "outputs": [
    {
     "name": "stderr",
     "output_type": "stream",
     "text": [
      "100%|██████████| 18/18 [00:00<00:00, 944.91it/s]\n"
     ]
    },
    {
     "name": "stdout",
     "output_type": "stream",
     "text": [
      "Statring iteration 0\n",
      "{'ner': 433.6112278322084}\n",
      "Statring iteration 1\n",
      "{'ner': 83.17658944897795}\n",
      "Statring iteration 2\n",
      "{'ner': 627.9742011487976}\n",
      "Statring iteration 3\n",
      "{'ner': 104.63287142088308}\n",
      "Statring iteration 4\n",
      "{'ner': 70.95102622901634}\n",
      "Statring iteration 5\n",
      "{'ner': 38.044413910092814}\n",
      "Statring iteration 6\n",
      "{'ner': 15.508880126525284}\n",
      "Statring iteration 7\n",
      "{'ner': 10.681692982390285}\n",
      "Statring iteration 8\n",
      "{'ner': 5.7621844684923165}\n",
      "Statring iteration 9\n",
      "{'ner': 10.015610119999167}\n",
      "Statring iteration 10\n",
      "{'ner': 2.1369369694850553}\n",
      "Statring iteration 11\n",
      "{'ner': 4.865382472040152}\n",
      "Statring iteration 12\n",
      "{'ner': 0.0804825457125184}\n",
      "Statring iteration 13\n",
      "{'ner': 0.0626104467821548}\n",
      "Statring iteration 14\n",
      "{'ner': 0.13805090441955828}\n",
      "Statring iteration 15\n",
      "{'ner': 0.0005517704711312697}\n",
      "Statring iteration 16\n",
      "{'ner': 6.7375369556608845e-06}\n",
      "Statring iteration 17\n",
      "{'ner': 4.95542507885632e-05}\n",
      "Statring iteration 18\n",
      "{'ner': 0.042165572630572544}\n",
      "Statring iteration 19\n",
      "{'ner': 0.0003521413777108464}\n"
     ]
    }
   ],
   "source": [
    "## Training a blank spacy english model.\n",
    "\n",
    "nlp = spacy.blank('en')  # create blank Language class\n",
    "# create the built-in pipeline components and add them to the pipeline\n",
    "# nlp.create_pipe works for built-ins that are registered with spaCy\n",
    "if 'ner' not in nlp.pipe_names:\n",
    "    ner = nlp.create_pipe('ner')\n",
    "    nlp.add_pipe(ner, last=True)\n",
    "\n",
    "# add labels\n",
    "for _, annotations in tqdm(training_data):\n",
    "    for ent in annotations.get('entities'):\n",
    "        ner.add_label(ent[2])\n",
    "\n",
    "# get names of other pipes to disable them during training\n",
    "other_pipes = [pipe for pipe in nlp.pipe_names if pipe != 'ner']\n",
    "with nlp.disable_pipes(*other_pipes):  # only train NER\n",
    "    optimizer = nlp.begin_training()\n",
    "    for itn in range(20):\n",
    "        print(\"Statring iteration \" + str(itn))\n",
    "        random.shuffle(training_data)\n",
    "        losses = {}\n",
    "        for text, annotations in training_data:\n",
    "            nlp.update(\n",
    "                [text],  # batch of texts\n",
    "                [annotations],  # batch of annotations\n",
    "                drop=0.2,  # dropout - make it harder to memorise data\n",
    "                sgd=optimizer,  # callable to update weights\n",
    "                losses=losses)\n",
    "        print(losses)"
   ]
  },
  {
   "cell_type": "code",
   "execution_count": 7,
   "metadata": {},
   "outputs": [],
   "source": [
    "import spacy"
   ]
  },
  {
   "cell_type": "code",
   "execution_count": 8,
   "metadata": {},
   "outputs": [],
   "source": [
    "nlp.to_disk(\"new_model_3\")"
   ]
  },
  {
   "cell_type": "code",
   "execution_count": 14,
   "metadata": {},
   "outputs": [],
   "source": [
    "import spacy\n",
    "nlp4=spacy.load(\"new_model_3\")"
   ]
  },
  {
   "cell_type": "code",
   "execution_count": 15,
   "metadata": {},
   "outputs": [],
   "source": [
    "doc=nlp4(open(\"./MEDICAL_REPORTS/TEST_REPORT_11.txt\").read())"
   ]
  },
  {
   "cell_type": "code",
   "execution_count": 16,
   "metadata": {
    "scrolled": true
   },
   "outputs": [
    {
     "name": "stdout",
     "output_type": "stream",
     "text": [
      "hello,Piyush Jagga, You are 25 years old.i am suffering from problems of Persistent lumps,swollen glands.I am suffering from problem of disease HIV.Medicines diazepam Gel or rectal solution: 5 mg/ mL in 0.5 mL 2‐ mL 4‐mL tubes,lorazepam Parenteral formulation: 2 mg/ mL in 1‐ mL ampoule; 4 mg/ mL in 1‐ mL ampoule.avoid lifting heavy weights.You should maintain your Body Mass Index.I would suggest doing more of effort.\n"
     ]
    }
   ],
   "source": [
    "print(doc)"
   ]
  },
  {
   "cell_type": "code",
   "execution_count": 17,
   "metadata": {},
   "outputs": [
    {
     "name": "stdout",
     "output_type": "stream",
     "text": [
      "problems of Persistent lumps\n",
      "swollen glands\n"
     ]
    }
   ],
   "source": [
    "for entity in doc.ents:\n",
    "    print(entity.text)"
   ]
  },
  {
   "cell_type": "code",
   "execution_count": null,
   "metadata": {},
   "outputs": [],
   "source": []
  },
  {
   "cell_type": "code",
   "execution_count": null,
   "metadata": {},
   "outputs": [],
   "source": []
  },
  {
   "cell_type": "code",
   "execution_count": null,
   "metadata": {},
   "outputs": [],
   "source": []
  },
  {
   "cell_type": "code",
   "execution_count": null,
   "metadata": {},
   "outputs": [],
   "source": []
  },
  {
   "cell_type": "code",
   "execution_count": null,
   "metadata": {},
   "outputs": [],
   "source": []
  }
 ],
 "metadata": {
  "kernelspec": {
   "display_name": "Python 3",
   "language": "python",
   "name": "python3"
  },
  "language_info": {
   "codemirror_mode": {
    "name": "ipython",
    "version": 3
   },
   "file_extension": ".py",
   "mimetype": "text/x-python",
   "name": "python",
   "nbconvert_exporter": "python",
   "pygments_lexer": "ipython3",
   "version": "3.7.4"
  }
 },
 "nbformat": 4,
 "nbformat_minor": 2
}
