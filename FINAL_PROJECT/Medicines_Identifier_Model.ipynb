{
 "cells": [
  {
   "cell_type": "markdown",
   "metadata": {},
   "source": [
    "### Medicines_Identifiers"
   ]
  },
  {
   "cell_type": "code",
   "execution_count": 3,
   "metadata": {},
   "outputs": [],
   "source": [
    "import spacy"
   ]
  },
  {
   "cell_type": "code",
   "execution_count": 4,
   "metadata": {},
   "outputs": [],
   "source": [
    "from tqdm import tqdm\n",
    "import spacy\n",
    "import random\n",
    "import json\n",
    "import re"
   ]
  },
  {
   "cell_type": "code",
   "execution_count": 5,
   "metadata": {},
   "outputs": [],
   "source": [
    "training_data = []\n",
    "lines=[]\n",
    "with open('New_Medical_reports.json', 'r',encoding=\"utf8\") as f:\n",
    "    lines = f.readlines()\n",
    "\n",
    "for line in lines:\n",
    "    data = json.loads(line)\n",
    "    text = data['content']\n",
    "    entities = []\n",
    "    if(data['annotation'] is not None):\n",
    "        for annotation in data['annotation']:\n",
    "              if(annotation is not None):\n",
    "                #only a single point in text annotation.\n",
    "                point = annotation['points'][0]\n",
    "                labels = annotation['label']\n",
    "                # handle both list of labels or a single label.\n",
    "                if not isinstance(labels, list):\n",
    "                    labels = [labels]\n",
    "\n",
    "                for label in labels:\n",
    "                    #dataturks indices are both inclusive [start, end] but spacy is not [start, end)\n",
    "                    entities.append((point['start'], point['end'] + 1 ,label))\n",
    "\n",
    "    if(entities != []):\n",
    "        training_data.append((text, {\"entities\" : entities}))"
   ]
  },
  {
   "cell_type": "code",
   "execution_count": 6,
   "metadata": {},
   "outputs": [
    {
     "data": {
      "text/plain": [
       "50"
      ]
     },
     "execution_count": 6,
     "metadata": {},
     "output_type": "execute_result"
    }
   ],
   "source": [
    "len(training_data)"
   ]
  },
  {
   "cell_type": "code",
   "execution_count": 7,
   "metadata": {},
   "outputs": [
    {
     "data": {
      "text/plain": [
       "[('Hello,Siddhanth Singh of age 25 years.Your have symptoms like a food intolerance,adverse reaction to a medication,viral infection and bacterial  infection.The diagnosis report says that you have diarrhea disease.I am prescribing you Attapulgite,Bismuth Subsalicylate,Charcoal Activated,Difenoxin and Atropine medicine.You should wash the cooking and food preparation areas more frequently,take food immediately after preparing it.',\n",
       "  {'entities': [(286, 308, 'Medicines'),\n",
       "    (267, 285, 'Medicines'),\n",
       "    (245, 266, 'Medicines'),\n",
       "    (233, 244, 'Medicines')]}),\n",
       " ('Hi, Pratik Kumar of age 25 years.Your symptoms are  pain,redness, feeling like the eye is scratched or something is in it, sensitivity to light, andblurry vision.The diagnosis report confirms that you have the disease Corneal Ulcers.I am prescibing you the medicine Antibacterials (Ophthalmic).I recommend you to wear eye protection when using power tools .You should also try to do exercise and yoga.',\n",
       "  {'entities': [(266, 293, 'Medicines')]}),\n",
       " ('Hey,Ajay Kumar of age 30 years.Your have the symptoms of frequent or urgent need to urinate,Difficulty starting urination.The diagnosis report says that you have Urethritis disease.I am prescribing you the medicine Erythromycins,Fluoroquinolones,Macrolide Antibiotics.You should get retested after three months to make sure the infection is completely cleared.',\n",
       "  {'entities': [(246, 267, 'Medicines'),\n",
       "    (229, 245, 'Medicines'),\n",
       "    (215, 228, 'Medicines')]}),\n",
       " ('Hi,Rohit Kumar of age 22 years.Your are having symptoms cough,irritability,loss of appetite,runny nose.The diagnosis report clears that you are suffering from Roseola disease.I am prescribing medicines Nonsteroidal anti-inflammatory drug.You should drink plenty of water,broth,lemon-lime soda',\n",
       "  {'entities': [(202, 237, 'Medicines')]}),\n",
       " ('Hello,Kiran Jha of age 23 years.Your are having symptoms Bloating,Belching and gas,Nausea and vomiting,An acidic taste in your mouth,Fullness during or after a meal.The diagnosis report clears that you are suffering from Acid Indigestion and Upset Stomach disease.I am prescribing medicines Antacids,Bismuth Subsalicylate,Histamine H2 Receptor Antagonists .You must avoid eating too much, too fast, or when you’re stressed. High-fat foods can also add to the problem.',\n",
       "  {'entities': [(322, 355, 'Medicines'),\n",
       "    (300, 321, 'Medicines'),\n",
       "    (291, 299, 'Medicines')]}),\n",
       " ('Hey,Deepak Kumar of age 20 years.Your have symptoms excessive bleeding and Dry Cough and sleeping scikness.The diagnosis report says that you have Fever disease.I am prescribing you the medicine Acetaminophen,NSAIDs,Aspirin .You should wash hand before and after meals, and after going to the toilet.',\n",
       "  {'entities': [(216, 223, 'Medicines'),\n",
       "    (209, 215, 'Medicines'),\n",
       "    (195, 208, 'Medicines')]}),\n",
       " ('Hi,Vikash Kumar of age 23 years.Your have symptoms of Muscle Cramps and Spasms,Digestive Problems.The diagnosis report says that you have Potassium Deficiency disease.I am prescribing you the medicine Potassium Supplements.You should eat more potassium-rich foods like fruits, vegetables, beans and nuts.',\n",
       "  {'entities': [(201, 222, 'Medicines')]}),\n",
       " ('Hello,Siddharth of age 23 years.Your symptoms are fatigue,easily bleeding or bruising,loss of appetite Nausea.The diagnosis report describes that you are suffering from the disease Cirrhosis.My prescribed medicines are Colchicine,Cyclosporine,Thiamine (Vitamin B-1).I recommend you to eat a healthy diet, maintain a healthy weight.You should also walk daily.I also advice you to take balance diet.',\n",
       "  {'entities': [(243, 265, 'Medicines'),\n",
       "    (230, 242, 'Medicines'),\n",
       "    (219, 229, 'Medicines')]}),\n",
       " ('Hello,Anmol Singh of age 25 years.Your have the symptoms like dizziness,loss of Balance,feeling of Pressure or Fullness,Loss of Hearing , difficulty hearing.The diagnosis report says that you have Ear Allergies disease.I am prescribing you Anti-Inflammatory Drugs and Steroidal (Otic) medicine.You are adviced to keep your ear clean.',\n",
       "  {'entities': [(239, 293, 'Medicines')]}),\n",
       " ('Hi,Mohit Jha of age 26 years.Your are having symptoms Dizziness, lightheadness, or feeling.The diagnosis report clears that you are suffering from Anemia disease.I am prescribing the medicines Adrenocorticoids,Androgens,Cyclosporine.You should take food containing vitamin B12.',\n",
       "  {'entities': [(220, 232, 'Medicines'),\n",
       "    (210, 219, 'Medicines'),\n",
       "    (193, 209, 'Medicines')]}),\n",
       " ('Hello,Abhishek Kumar of age 24 years.Your are having symptoms of swelling,pain,tenderness,a warm sensation.The diagnosis report shows that you have Blood Clots disease.I am prescribing you the medicines Anticoagulants (Oral) .You must avoid lengthy travel. You should drink more water.',\n",
       "  {'entities': [(202, 224, 'Medicines')]})]"
      ]
     },
     "execution_count": 7,
     "metadata": {},
     "output_type": "execute_result"
    }
   ],
   "source": [
    "training_data[4:15]"
   ]
  },
  {
   "cell_type": "code",
   "execution_count": 8,
   "metadata": {},
   "outputs": [
    {
     "name": "stderr",
     "output_type": "stream",
     "text": [
      "100%|██████████| 50/50 [00:00<00:00, 48975.99it/s]\n"
     ]
    },
    {
     "name": "stdout",
     "output_type": "stream",
     "text": [
      "Statring iteration 0\n",
      "{'ner': 929.9250523526625}\n",
      "Statring iteration 1\n",
      "{'ner': 781.015163274015}\n",
      "Statring iteration 2\n",
      "{'ner': 938.7415757498438}\n",
      "Statring iteration 3\n",
      "{'ner': 243.73678143274017}\n",
      "Statring iteration 4\n",
      "{'ner': 94.09807148690405}\n",
      "Statring iteration 5\n",
      "{'ner': 81.89931690583558}\n",
      "Statring iteration 6\n",
      "{'ner': 47.408823278910155}\n",
      "Statring iteration 7\n",
      "{'ner': 28.744351885924555}\n",
      "Statring iteration 8\n",
      "{'ner': 14.415915395399619}\n",
      "Statring iteration 9\n",
      "{'ner': 10.918812400253655}\n",
      "Statring iteration 10\n",
      "{'ner': 13.64042177952682}\n",
      "Statring iteration 11\n",
      "{'ner': 9.246584695489119}\n",
      "Statring iteration 12\n",
      "{'ner': 38.184494395582675}\n",
      "Statring iteration 13\n",
      "{'ner': 24.9850840686269}\n",
      "Statring iteration 14\n",
      "{'ner': 21.001477069965905}\n",
      "Statring iteration 15\n",
      "{'ner': 14.82909787500828}\n",
      "Statring iteration 16\n",
      "{'ner': 3.1398534285092046}\n",
      "Statring iteration 17\n",
      "{'ner': 20.73502808041312}\n",
      "Statring iteration 18\n",
      "{'ner': 20.841078488360182}\n",
      "Statring iteration 19\n",
      "{'ner': 38.58165506906669}\n"
     ]
    }
   ],
   "source": [
    "## Training a blank spacy english model.\n",
    "\n",
    "nlp = spacy.blank('en')  # create blank Language class\n",
    "# create the built-in pipeline components and add them to the pipeline\n",
    "# nlp.create_pipe works for built-ins that are registered with spaCy\n",
    "if 'ner' not in nlp.pipe_names:\n",
    "    ner = nlp.create_pipe('ner')\n",
    "    nlp.add_pipe(ner, last=True)\n",
    "\n",
    "# add labels\n",
    "for _, annotations in tqdm(training_data):\n",
    "    for ent in annotations.get('entities'):\n",
    "        ner.add_label(ent[2])\n",
    "\n",
    "# get names of other pipes to disable them during training\n",
    "other_pipes = [pipe for pipe in nlp.pipe_names if pipe != 'ner']\n",
    "with nlp.disable_pipes(*other_pipes):  # only train NER\n",
    "    optimizer = nlp.begin_training()\n",
    "    for itn in range(20):\n",
    "        print(\"Statring iteration \" + str(itn))\n",
    "        random.shuffle(training_data)\n",
    "        losses = {}\n",
    "        for text, annotations in training_data:\n",
    "            nlp.update(\n",
    "                [text],  # batch of texts\n",
    "                [annotations],  # batch of annotations\n",
    "                drop=0.2,  # dropout - make it harder to memorise data\n",
    "                sgd=optimizer,  # callable to update weights\n",
    "                losses=losses)\n",
    "        print(losses)"
   ]
  },
  {
   "cell_type": "code",
   "execution_count": 9,
   "metadata": {},
   "outputs": [],
   "source": [
    "nlp.to_disk(\"new_model_4\")"
   ]
  },
  {
   "cell_type": "code",
   "execution_count": 11,
   "metadata": {},
   "outputs": [],
   "source": [
    "import spacy\n",
    "nlp4=spacy.load(\"new_model_4\")\n",
    "doc=nlp4(open(\"./MEDICAL_REPORTS/TEST_REPORT_11.txt\").read())"
   ]
  },
  {
   "cell_type": "code",
   "execution_count": 12,
   "metadata": {},
   "outputs": [
    {
     "name": "stdout",
     "output_type": "stream",
     "text": [
      "hello,Piyush Jagga, You are 25 years old.According to your problems i have read you are having the problems of Persistent lumps,swollen glands.You are suffering from problem of disease HIV.Medicines diazepam Gel or rectal solution: 5 mg/ mL in 0.5 mL 2‐ mL 4‐mL tubes,lorazepam Parenteral formulation: 2 mg/ mL in 1‐ mL ampoule; 4 mg/ mL in 1‐ mL ampoule.avoid lifting heavy weights.You should maintain your Body Mass Index.I would suggest doing more of effort.\n"
     ]
    }
   ],
   "source": [
    "print(doc)"
   ]
  },
  {
   "cell_type": "code",
   "execution_count": 13,
   "metadata": {},
   "outputs": [
    {
     "name": "stdout",
     "output_type": "stream",
     "text": [
      "Piyush Jagga\n",
      "diazepam Gel or\n",
      ": 5 mg/ mL in 0.5 mL 2‐ mL\n",
      "Parenteral\n",
      ": 2 mg/ mL in 1‐ mL\n",
      "mg/ mL in 1‐ mL ampoule.avoid\n"
     ]
    }
   ],
   "source": [
    "\n",
    "for entity in doc.ents:\n",
    "    print(entity.text)\n",
    "#         i+=1\n",
    "#     else:\n",
    "#         break"
   ]
  },
  {
   "cell_type": "code",
   "execution_count": null,
   "metadata": {},
   "outputs": [],
   "source": []
  },
  {
   "cell_type": "code",
   "execution_count": null,
   "metadata": {},
   "outputs": [],
   "source": []
  },
  {
   "cell_type": "code",
   "execution_count": null,
   "metadata": {},
   "outputs": [],
   "source": []
  }
 ],
 "metadata": {
  "kernelspec": {
   "display_name": "Python 3",
   "language": "python",
   "name": "python3"
  },
  "language_info": {
   "codemirror_mode": {
    "name": "ipython",
    "version": 3
   },
   "file_extension": ".py",
   "mimetype": "text/x-python",
   "name": "python",
   "nbconvert_exporter": "python",
   "pygments_lexer": "ipython3",
   "version": "3.7.4"
  }
 },
 "nbformat": 4,
 "nbformat_minor": 2
}
