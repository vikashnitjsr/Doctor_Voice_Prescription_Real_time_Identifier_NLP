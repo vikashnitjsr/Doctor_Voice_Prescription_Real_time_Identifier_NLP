{
 "cells": [
  {
   "cell_type": "code",
   "execution_count": 1,
   "metadata": {},
   "outputs": [],
   "source": [
    "d={\"Name\":[],\"Age\":[],\"Symptoms\":[],\"Disease\":[],\"Medicines\":[],\"Advices\":[]}"
   ]
  },
  {
   "cell_type": "markdown",
   "metadata": {},
   "source": [
    "- ### Identify Name"
   ]
  },
  {
   "cell_type": "code",
   "execution_count": 1,
   "metadata": {},
   "outputs": [
    {
     "ename": "FileNotFoundError",
     "evalue": "[Errno 2] No such file or directory: './Desktop/MEDICAL_REPORTS/Test_Report_92.txt'",
     "output_type": "error",
     "traceback": [
      "\u001b[0;31m---------------------------------------------------------------------------\u001b[0m",
      "\u001b[0;31mFileNotFoundError\u001b[0m                         Traceback (most recent call last)",
      "\u001b[0;32m<ipython-input-1-f943da948001>\u001b[0m in \u001b[0;36m<module>\u001b[0;34m\u001b[0m\n\u001b[0;32m----> 1\u001b[0;31m \u001b[0minput_file\u001b[0m\u001b[0;34m=\u001b[0m\u001b[0mopen\u001b[0m\u001b[0;34m(\u001b[0m\u001b[0;34m\"./Desktop/MEDICAL_REPORTS/Test_Report_92.txt\"\u001b[0m\u001b[0;34m)\u001b[0m\u001b[0;34m.\u001b[0m\u001b[0mread\u001b[0m\u001b[0;34m(\u001b[0m\u001b[0;34m)\u001b[0m\u001b[0;34m\u001b[0m\u001b[0;34m\u001b[0m\u001b[0m\n\u001b[0m\u001b[1;32m      2\u001b[0m \u001b[0mprint\u001b[0m\u001b[0;34m(\u001b[0m\u001b[0minput_file\u001b[0m\u001b[0;34m)\u001b[0m\u001b[0;34m\u001b[0m\u001b[0;34m\u001b[0m\u001b[0m\n",
      "\u001b[0;31mFileNotFoundError\u001b[0m: [Errno 2] No such file or directory: './Desktop/MEDICAL_REPORTS/Test_Report_92.txt'"
     ]
    }
   ],
   "source": [
    "input_file=open(\"./Desktop/MEDICAL_REPORTS/Test_Report_92.txt\").read()\n",
    "print(input_file)"
   ]
  },
  {
   "cell_type": "code",
   "execution_count": 3,
   "metadata": {},
   "outputs": [],
   "source": [
    "import pickle\n",
    "with open('whitelist.pkl', 'rb') as f:\n",
    "    data = pickle.load(f)"
   ]
  },
  {
   "cell_type": "code",
   "execution_count": 4,
   "metadata": {},
   "outputs": [],
   "source": [
    "# %%capture cap --no-stderr\n",
    "import spacy\n",
    "nlp2=spacy.load('en_core_web_sm')\n",
    "doc=nlp2(input_file)\n",
    "string=\"NAME: \"\n",
    "for token in doc:\n",
    "    if((token.tag_==\"NN\" or token.tag_=='NNP') and str(token).lower() not in data):\n",
    "        d[\"Name\"].append(token.text)\n",
    "        break\n"
   ]
  },
  {
   "cell_type": "code",
   "execution_count": 5,
   "metadata": {},
   "outputs": [],
   "source": [
    "# with open(\"output.txt\",'a+') as f:\n",
    "#     f.write(string)\n",
    "#     f.write('\\n')"
   ]
  },
  {
   "cell_type": "markdown",
   "metadata": {},
   "source": [
    "- ## AGE Identifier"
   ]
  },
  {
   "cell_type": "code",
   "execution_count": 6,
   "metadata": {},
   "outputs": [],
   "source": [
    "import spacy\n",
    "nlp=spacy.load(\"en_core_web_sm\")\n",
    "doc=nlp(input_file)\n",
    "from spacy.matcher import PhraseMatcher\n",
    "import random\n",
    "age_list=[]\n",
    "matcher = PhraseMatcher(nlp.vocab, attr=\"SHAPE\")\n",
    "age_indicator=['YEAR', 'YEARS', 'Y/O', 'AGES', 'AGE', 'Y.O', 'Y.O.','AGED','AGE IS']\n",
    "matcher.add(\"age\", None, nlp(\"76 year old\"),nlp(\"aged 58\"),nlp('aged 123'),nlp(\"54 y/o\"),nlp(\"age is 59\"),nlp(\"123 y/o\"), nlp(\"ages 35\"),nlp(\"age 45\"),nlp(\"ages 123\"),nlp(\"age 123\"),nlp(\"54 years old\"),nlp(\"124 years old\"),nlp(\"41 y.o.\"),nlp(\"123 y.o.\"),nlp('113 year old'))"
   ]
  },
  {
   "cell_type": "code",
   "execution_count": 7,
   "metadata": {},
   "outputs": [],
   "source": [
    "for match_id, start, end in matcher(doc):\n",
    "    t=doc[start:end]\n",
    "    break\n",
    "string=\"\"\n",
    "for i in t.text:\n",
    "    if((i).isdigit()):\n",
    "        string+=str(i)\n",
    "d[\"Age\"].append(string)\n"
   ]
  },
  {
   "cell_type": "code",
   "execution_count": 8,
   "metadata": {},
   "outputs": [],
   "source": [
    "# with open(\"output.txt\",'a') as f:\n",
    "#     f.write(string)\n",
    "#     f.write('\\n')"
   ]
  },
  {
   "cell_type": "code",
   "execution_count": 9,
   "metadata": {},
   "outputs": [],
   "source": [
    "# with open(\"output.txt\",'r') as f:\n",
    "#     print(f.read())"
   ]
  },
  {
   "cell_type": "code",
   "execution_count": 10,
   "metadata": {},
   "outputs": [],
   "source": [
    "# Delete file\n",
    "# import os\n",
    "# os.remove('output.txt')"
   ]
  },
  {
   "cell_type": "markdown",
   "metadata": {},
   "source": [
    " - ### Symptoms Identifier"
   ]
  },
  {
   "cell_type": "code",
   "execution_count": 11,
   "metadata": {},
   "outputs": [],
   "source": [
    "nlp4=spacy.load(\"new_model_3\")"
   ]
  },
  {
   "cell_type": "code",
   "execution_count": 12,
   "metadata": {},
   "outputs": [],
   "source": [
    "doc=nlp4(input_file)"
   ]
  },
  {
   "cell_type": "code",
   "execution_count": 13,
   "metadata": {},
   "outputs": [
    {
     "name": "stdout",
     "output_type": "stream",
     "text": [
      "You are  Yashwant of age 30 years.According to your query you are the having the problems of Hoarseness,Persistent lumps,swollen glands.The diagnosis report shows that you have the symptoms of Fifth disease.Medicines albendazole Tablet (chewable): 400 mg,ivermectin Tablet (scored): 3 mg.My suggestion is to take small frequent meals.You should take complete bed rest.\n"
     ]
    }
   ],
   "source": [
    "print(doc)"
   ]
  },
  {
   "cell_type": "code",
   "execution_count": 14,
   "metadata": {},
   "outputs": [],
   "source": [
    "for entity in doc.ents:\n",
    "    d[\"Symptoms\"].append(entity.text)"
   ]
  },
  {
   "cell_type": "markdown",
   "metadata": {},
   "source": [
    "- ## Disease Identifier"
   ]
  },
  {
   "cell_type": "code",
   "execution_count": 15,
   "metadata": {},
   "outputs": [],
   "source": [
    "nlp5=spacy.load(\"new_model_2\")"
   ]
  },
  {
   "cell_type": "code",
   "execution_count": 16,
   "metadata": {},
   "outputs": [],
   "source": [
    "doc=nlp5(input_file)"
   ]
  },
  {
   "cell_type": "code",
   "execution_count": 17,
   "metadata": {},
   "outputs": [
    {
     "name": "stdout",
     "output_type": "stream",
     "text": [
      "You are  Yashwant of age 30 years.According to your query you are the having the problems of Hoarseness,Persistent lumps,swollen glands.The diagnosis report shows that you have the symptoms of Fifth disease.Medicines albendazole Tablet (chewable): 400 mg,ivermectin Tablet (scored): 3 mg.My suggestion is to take small frequent meals.You should take complete bed rest.\n"
     ]
    }
   ],
   "source": [
    "print(doc)"
   ]
  },
  {
   "cell_type": "code",
   "execution_count": 18,
   "metadata": {},
   "outputs": [
    {
     "name": "stdout",
     "output_type": "stream",
     "text": [
      "Fifth disease\n"
     ]
    }
   ],
   "source": [
    "for entity in doc.ents:\n",
    "    print(entity.text)"
   ]
  },
  {
   "cell_type": "markdown",
   "metadata": {},
   "source": [
    "- ### Medicines Identifier"
   ]
  },
  {
   "cell_type": "code",
   "execution_count": 19,
   "metadata": {},
   "outputs": [],
   "source": [
    "nlp4=spacy.load(\"new_model_4\")"
   ]
  },
  {
   "cell_type": "code",
   "execution_count": 20,
   "metadata": {},
   "outputs": [],
   "source": [
    "doc=nlp4(input_file)"
   ]
  },
  {
   "cell_type": "code",
   "execution_count": 21,
   "metadata": {},
   "outputs": [
    {
     "name": "stdout",
     "output_type": "stream",
     "text": [
      "You are  Yashwant of age 30 years.According to your query you are the having the problems of Hoarseness,Persistent lumps,swollen glands.The diagnosis report shows that you have the symptoms of Fifth disease.Medicines albendazole Tablet (chewable): 400 mg,ivermectin Tablet (scored): 3 mg.My suggestion is to take small frequent meals.You should take complete bed rest.\n"
     ]
    }
   ],
   "source": [
    "print(doc)"
   ]
  },
  {
   "cell_type": "code",
   "execution_count": 22,
   "metadata": {},
   "outputs": [],
   "source": [
    "for entity in doc.ents:\n",
    "    d[\"Medicines\"].append(entity.text)"
   ]
  },
  {
   "cell_type": "markdown",
   "metadata": {},
   "source": [
    "- ### Advices"
   ]
  },
  {
   "cell_type": "code",
   "execution_count": 23,
   "metadata": {},
   "outputs": [],
   "source": [
    "nlp6=spacy.load(\"new_model_1\")"
   ]
  },
  {
   "cell_type": "code",
   "execution_count": 24,
   "metadata": {},
   "outputs": [],
   "source": [
    "doc=nlp6(input_file)"
   ]
  },
  {
   "cell_type": "code",
   "execution_count": 25,
   "metadata": {},
   "outputs": [
    {
     "name": "stdout",
     "output_type": "stream",
     "text": [
      "You are  Yashwant of age 30 years.According to your query you are the having the problems of Hoarseness,Persistent lumps,swollen glands.The diagnosis report shows that you have the symptoms of Fifth disease.Medicines albendazole Tablet (chewable): 400 mg,ivermectin Tablet (scored): 3 mg.My suggestion is to take small frequent meals.You should take complete bed rest.\n"
     ]
    }
   ],
   "source": [
    "print(doc)"
   ]
  },
  {
   "cell_type": "code",
   "execution_count": 26,
   "metadata": {},
   "outputs": [],
   "source": [
    "for entity in doc.ents:\n",
    "    d[\"Advices\"].append(entity.text)"
   ]
  },
  {
   "cell_type": "code",
   "execution_count": 27,
   "metadata": {
    "scrolled": true
   },
   "outputs": [
    {
     "name": "stdout",
     "output_type": "stream",
     "text": [
      "Name  : ['Yashwant']\n",
      "Age  : ['30']\n",
      "Symptoms  : ['Hoarseness', 'Persistent lumps', 'swollen glands']\n",
      "Disease  : []\n",
      "Medicines  : ['albendazole Tablet (chewable): 400 mg', 'ivermectin Tablet (scored): 3 mg']\n",
      "Advices  : ['My suggestion is to take small frequent meals', 'You should take complete bed rest']\n"
     ]
    }
   ],
   "source": [
    "for i,j in d.items():\n",
    "    print(i,\" :\",j)"
   ]
  },
  {
   "cell_type": "code",
   "execution_count": 28,
   "metadata": {},
   "outputs": [
    {
     "name": "stdout",
     "output_type": "stream",
     "text": [
      "{'Name': ['Yashwant'], 'Age': ['30'], 'Symptoms': ['Hoarseness', 'Persistent lumps', 'swollen glands'], 'Disease': [], 'Medicines': ['albendazole Tablet (chewable): 400 mg', 'ivermectin Tablet (scored): 3 mg'], 'Advices': ['My suggestion is to take small frequent meals', 'You should take complete bed rest']}\n"
     ]
    }
   ],
   "source": [
    "print(d)"
   ]
  },
  {
   "cell_type": "code",
   "execution_count": 29,
   "metadata": {},
   "outputs": [],
   "source": [
    "# d.clear()"
   ]
  },
  {
   "cell_type": "code",
   "execution_count": null,
   "metadata": {},
   "outputs": [],
   "source": []
  },
  {
   "cell_type": "code",
   "execution_count": null,
   "metadata": {},
   "outputs": [],
   "source": []
  },
  {
   "cell_type": "code",
   "execution_count": null,
   "metadata": {},
   "outputs": [],
   "source": []
  }
 ],
 "metadata": {
  "kernelspec": {
   "display_name": "Python 3",
   "language": "python",
   "name": "python3"
  },
  "language_info": {
   "codemirror_mode": {
    "name": "ipython",
    "version": 3
   },
   "file_extension": ".py",
   "mimetype": "text/x-python",
   "name": "python",
   "nbconvert_exporter": "python",
   "pygments_lexer": "ipython3",
   "version": "3.7.4"
  }
 },
 "nbformat": 4,
 "nbformat_minor": 2
}
