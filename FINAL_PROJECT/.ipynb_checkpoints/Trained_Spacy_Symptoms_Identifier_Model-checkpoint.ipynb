{
 "cells": [
  {
   "cell_type": "markdown",
   "metadata": {},
   "source": [
    "## SYMPTOMS_Identifier"
   ]
  },
  {
   "cell_type": "code",
   "execution_count": 14,
   "metadata": {},
   "outputs": [],
   "source": [
    "import spacy"
   ]
  },
  {
   "cell_type": "code",
   "execution_count": 15,
   "metadata": {},
   "outputs": [],
   "source": [
    "from tqdm import tqdm\n",
    "import spacy\n",
    "import random\n",
    "import json\n",
    "import re"
   ]
  },
  {
   "cell_type": "code",
   "execution_count": 16,
   "metadata": {},
   "outputs": [],
   "source": [
    "training_data = []\n",
    "lines=[]\n",
    "with open('SYMPTOMS_Identifiers.json', 'r',encoding=\"utf8\") as f:\n",
    "    lines = f.readlines()\n",
    "\n",
    "for line in lines:\n",
    "    data = json.loads(line)\n",
    "    text = data['content']\n",
    "    entities = []\n",
    "    if(data['annotation'] is not None):\n",
    "        for annotation in data['annotation']:\n",
    "              if(annotation is not None):\n",
    "                #only a single point in text annotation.\n",
    "                point = annotation['points'][0]\n",
    "                labels = annotation['label']\n",
    "                # handle both list of labels or a single label.\n",
    "                if not isinstance(labels, list):\n",
    "                    labels = [labels]\n",
    "\n",
    "                for label in labels:\n",
    "                    #dataturks indices are both inclusive [start, end] but spacy is not [start, end)\n",
    "                    entities.append((point['start'], point['end'] + 1 ,label))\n",
    "\n",
    "    if(entities != []):\n",
    "        training_data.append((text, {\"entities\" : entities}))"
   ]
  },
  {
   "cell_type": "code",
   "execution_count": 17,
   "metadata": {},
   "outputs": [
    {
     "data": {
      "text/plain": [
       "18"
      ]
     },
     "execution_count": 17,
     "metadata": {},
     "output_type": "execute_result"
    }
   ],
   "source": [
    "len(training_data)"
   ]
  },
  {
   "cell_type": "code",
   "execution_count": 18,
   "metadata": {},
   "outputs": [
    {
     "data": {
      "text/plain": [
       "[('You are  Yashwant of age 30 years.According to your query you are the having the problems of sweating,Infection,fever.The diagnosis report shows that you are suffering from  respiratory disease.Medicines albendazole Tablet (chewable): 400 mg,ivermectin Tablet (scored): 3 mg.My suggestion is to take small frequent meals.You should take complete bed rest.',\n",
       "  {'entities': [(112, 117, 'SYMPTOMS'),\n",
       "    (102, 111, 'SYMPTOMS'),\n",
       "    (93, 101, 'SYMPTOMS')]}),\n",
       " ('Abhijit kaushal, your age is 29 yeras.According to your query you have the symptoms of shortness of breath at night,common cold ,blood loss.The problem i found that you are  suffering from Tetanus.The prescribed medicine you have to take are pyrantel,Tablet (chewable): 250 mg (as embonate orpamoate).Try Physical activity which promotes blood circulation.',\n",
       "  {'entities': [(129, 139, 'SYMPTOMS'),\n",
       "    (116, 128, 'SYMPTOMS'),\n",
       "    (86, 115, 'SYMPTOMS')]}),\n",
       " ('Hi, You are Prabhat Kumawat of age 20 years.So,You have the Symptoms of fever and weight loss.You have very severe problem of disease Infectious mononucleosis.You have to take the medicines gentamicin Injection: 10 mg 40 mg (as sulfate)/ mL in 2‐ mLvial,metronidazole Suppository: 500 mg 1 g.Use alcohol-free facial products.My advice is not use decongestants because they can dry out your throat.You should try Using warm saline water as a mouth wash,',\n",
       "  {'entities': [(82, 93, 'SYMPTOMS'), (72, 77, 'SYMPTOMS')]}),\n",
       " ('hello,Mahesh Rathore,You should try Chewing food slowly and thoroughly. You are 25 years old.Try Reducing or eliminating the use of alcohol, caffeine, and carbonated beverages.According to your problems i have read you are having the problems of loose stools,dry Cough.You are suffering from Tuberculosis and Alzheimer .I am writing the medicines you have to take are clindamycin Capsule: 150 mg (as hydrochloride),vancomycin Powder for injection: 250 mg (as hydrochloride) in vial.',\n",
       "  {'entities': [(259, 268, 'SYMPTOMS'), (246, 258, 'SYMPTOMS')]}),\n",
       " ('Hi Mr Avnish Chaurasia of age 23 years.You have symptoms of Night sweats,Irritability,Blurred vision.You are having the disease Congenital Heart Disease.According to report What i found is that you are suffering from Tuberculosis.The prescribed medicine you have to take are chloramphenicol Oily suspension for injection*: 0.5 g (as sodiumsuccinate)/ mL in 2‐ mL ampoule,erythromycin Powder for oral liquid: 125 mg/5 mL (as stearate or estolate or ethyl succinate).You should flex your ankles every half hour or so while sitting.You should try Avoiding foods that trigger indigestion.Drink Warm water.',\n",
       "  {'entities': [(86, 100, 'SYMPTOMS'),\n",
       "    (73, 85, 'SYMPTOMS'),\n",
       "    (60, 72, 'SYMPTOMS')]}),\n",
       " ('Harish Chandra, age 10 years.You have the symptoms of Indigestion,difficulty swallowing,Unusual vaginal bleeding.According to report What i found is that you are suffering from Kidney disease.I would recommend you to take healthy food.The prescribed medicine you have to take are docusate sodium Capsule: 100 mg,diazepam Injection: 5 mg/ mL.I would recommend you to take hot water.',\n",
       "  {'entities': [(88, 112, 'SYMPTOMS'),\n",
       "    (66, 87, 'SYMPTOMS'),\n",
       "    (54, 65, 'SYMPTOMS')]})]"
      ]
     },
     "execution_count": 18,
     "metadata": {},
     "output_type": "execute_result"
    }
   ],
   "source": [
    "training_data[4:10]"
   ]
  },
  {
   "cell_type": "code",
   "execution_count": 19,
   "metadata": {},
   "outputs": [
    {
     "name": "stderr",
     "output_type": "stream",
     "text": [
      "100%|██████████| 18/18 [00:00<00:00, 45700.65it/s]\n"
     ]
    },
    {
     "name": "stdout",
     "output_type": "stream",
     "text": [
      "Statring iteration 0\n",
      "{'ner': 432.87981906565534}\n",
      "Statring iteration 1\n",
      "{'ner': 112.71431546852958}\n",
      "Statring iteration 2\n",
      "{'ner': 588.0657052125923}\n",
      "Statring iteration 3\n",
      "{'ner': 404.2999713131503}\n",
      "Statring iteration 4\n",
      "{'ner': 119.14268130699648}\n",
      "Statring iteration 5\n",
      "{'ner': 45.29173569911377}\n",
      "Statring iteration 6\n",
      "{'ner': 24.729312451423922}\n",
      "Statring iteration 7\n",
      "{'ner': 31.968325865853153}\n",
      "Statring iteration 8\n",
      "{'ner': 17.31477873155181}\n",
      "Statring iteration 9\n",
      "{'ner': 14.27182525799927}\n",
      "Statring iteration 10\n",
      "{'ner': 4.550026590837507}\n",
      "Statring iteration 11\n",
      "{'ner': 17.5668781519728}\n",
      "Statring iteration 12\n",
      "{'ner': 5.222708328468918}\n",
      "Statring iteration 13\n",
      "{'ner': 4.012187518845127}\n",
      "Statring iteration 14\n",
      "{'ner': 7.996012970088629}\n",
      "Statring iteration 15\n",
      "{'ner': 1.5179610671556552}\n",
      "Statring iteration 16\n",
      "{'ner': 1.5568323288503851}\n",
      "Statring iteration 17\n",
      "{'ner': 0.20857252470319618}\n",
      "Statring iteration 18\n",
      "{'ner': 0.011114762950390631}\n",
      "Statring iteration 19\n",
      "{'ner': 6.028823396511691}\n"
     ]
    }
   ],
   "source": [
    "## Training a blank spacy english model.\n",
    "\n",
    "nlp = spacy.blank('en')  # create blank Language class\n",
    "# create the built-in pipeline components and add them to the pipeline\n",
    "# nlp.create_pipe works for built-ins that are registered with spaCy\n",
    "if 'ner' not in nlp.pipe_names:\n",
    "    ner = nlp.create_pipe('ner')\n",
    "    nlp.add_pipe(ner, last=True)\n",
    "\n",
    "# add labels\n",
    "for _, annotations in tqdm(training_data):\n",
    "    for ent in annotations.get('entities'):\n",
    "        ner.add_label(ent[2])\n",
    "\n",
    "# get names of other pipes to disable them during training\n",
    "other_pipes = [pipe for pipe in nlp.pipe_names if pipe != 'ner']\n",
    "with nlp.disable_pipes(*other_pipes):  # only train NER\n",
    "    optimizer = nlp.begin_training()\n",
    "    for itn in range(20):\n",
    "        print(\"Statring iteration \" + str(itn))\n",
    "        random.shuffle(training_data)\n",
    "        losses = {}\n",
    "        for text, annotations in training_data:\n",
    "            nlp.update(\n",
    "                [text],  # batch of texts\n",
    "                [annotations],  # batch of annotations\n",
    "                drop=0.2,  # dropout - make it harder to memorise data\n",
    "                sgd=optimizer,  # callable to update weights\n",
    "                losses=losses)\n",
    "        print(losses)"
   ]
  },
  {
   "cell_type": "code",
   "execution_count": 3,
   "metadata": {},
   "outputs": [],
   "source": [
    "import spacy"
   ]
  },
  {
   "cell_type": "code",
   "execution_count": 4,
   "metadata": {},
   "outputs": [
    {
     "ename": "NameError",
     "evalue": "name 'nlp' is not defined",
     "output_type": "error",
     "traceback": [
      "\u001b[0;31m---------------------------------------------------------------------------\u001b[0m",
      "\u001b[0;31mNameError\u001b[0m                                 Traceback (most recent call last)",
      "\u001b[0;32m<ipython-input-4-c2be432b7720>\u001b[0m in \u001b[0;36m<module>\u001b[0;34m\u001b[0m\n\u001b[0;32m----> 1\u001b[0;31m \u001b[0mnlp\u001b[0m\u001b[0;34m.\u001b[0m\u001b[0mto_disk\u001b[0m\u001b[0;34m(\u001b[0m\u001b[0;34m\"new_model_3\"\u001b[0m\u001b[0;34m)\u001b[0m\u001b[0;34m\u001b[0m\u001b[0;34m\u001b[0m\u001b[0m\n\u001b[0m",
      "\u001b[0;31mNameError\u001b[0m: name 'nlp' is not defined"
     ]
    }
   ],
   "source": [
    "nlp.to_disk(\"new_model_3\")"
   ]
  },
  {
   "cell_type": "code",
   "execution_count": 3,
   "metadata": {},
   "outputs": [],
   "source": [
    "import spacy\n",
    "nlp4=spacy.load(\"new_model_3\")"
   ]
  },
  {
   "cell_type": "code",
   "execution_count": 4,
   "metadata": {},
   "outputs": [
    {
     "ename": "FileNotFoundError",
     "evalue": "[Errno 2] No such file or directory: './New_datasets_suman%20(1)/MR_10.txt'",
     "output_type": "error",
     "traceback": [
      "\u001b[0;31m---------------------------------------------------------------------------\u001b[0m",
      "\u001b[0;31mFileNotFoundError\u001b[0m                         Traceback (most recent call last)",
      "\u001b[0;32m<ipython-input-4-7b32975bea06>\u001b[0m in \u001b[0;36m<module>\u001b[0;34m\u001b[0m\n\u001b[0;32m----> 1\u001b[0;31m \u001b[0mdoc\u001b[0m\u001b[0;34m=\u001b[0m\u001b[0mnlp4\u001b[0m\u001b[0;34m(\u001b[0m\u001b[0mopen\u001b[0m\u001b[0;34m(\u001b[0m\u001b[0;34m\"./New_datasets_suman%20(1)/MR_10.txt\"\u001b[0m\u001b[0;34m)\u001b[0m\u001b[0;34m.\u001b[0m\u001b[0mread\u001b[0m\u001b[0;34m(\u001b[0m\u001b[0;34m)\u001b[0m\u001b[0;34m)\u001b[0m\u001b[0;34m\u001b[0m\u001b[0;34m\u001b[0m\u001b[0m\n\u001b[0m",
      "\u001b[0;31mFileNotFoundError\u001b[0m: [Errno 2] No such file or directory: './New_datasets_suman%20(1)/MR_10.txt'"
     ]
    }
   ],
   "source": [
    "doc=nlp4(open(\"./New_datasets_suman(1)/MR_10.txt\").read())"
   ]
  },
  {
   "cell_type": "code",
   "execution_count": 7,
   "metadata": {},
   "outputs": [
    {
     "name": "stdout",
     "output_type": "stream",
     "text": [
      "HI ,Jitendra Kumar of age 19 years . your have the symptoms of Chicken pox and gum bleeding and Fever. The Diagnosis Report states that  you are suffering from algymer.The prescribed medicines are Alylopepsin and zamithrosen. you should always clean your body. do morning walk daily.\n",
      "\n"
     ]
    }
   ],
   "source": [
    "print(doc)"
   ]
  },
  {
   "cell_type": "code",
   "execution_count": 8,
   "metadata": {},
   "outputs": [
    {
     "name": "stdout",
     "output_type": "stream",
     "text": [
      "Chicken\n",
      "gum bleeding\n",
      "Fever\n"
     ]
    }
   ],
   "source": [
    "for entity in doc.ents:\n",
    "    print(entity.text)"
   ]
  },
  {
   "cell_type": "code",
   "execution_count": null,
   "metadata": {},
   "outputs": [],
   "source": []
  },
  {
   "cell_type": "code",
   "execution_count": null,
   "metadata": {},
   "outputs": [],
   "source": []
  },
  {
   "cell_type": "code",
   "execution_count": null,
   "metadata": {},
   "outputs": [],
   "source": []
  },
  {
   "cell_type": "code",
   "execution_count": null,
   "metadata": {},
   "outputs": [],
   "source": []
  }
 ],
 "metadata": {
  "kernelspec": {
   "display_name": "Python 3",
   "language": "python",
   "name": "python3"
  },
  "language_info": {
   "codemirror_mode": {
    "name": "ipython",
    "version": 3
   },
   "file_extension": ".py",
   "mimetype": "text/x-python",
   "name": "python",
   "nbconvert_exporter": "python",
   "pygments_lexer": "ipython3",
   "version": "3.7.4"
  }
 },
 "nbformat": 4,
 "nbformat_minor": 2
}
